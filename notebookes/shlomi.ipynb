{
 "cells": [
  {
   "cell_type": "markdown",
   "metadata": {},
   "source": [
    "# TODO\n",
    "* LibLinear vs Scapy vs other?\n",
    "* Class imbalance in linear regreassion\n",
    "* What to use at all in negative points?\n",
    "* Multi linear regression - different equastion to each crime type or together? - I guess it makes sense to do it spearetly, we don't have any reson to think that the occurence of two crimes types are depandent."
   ]
  },
  {
   "cell_type": "markdown",
   "metadata": {},
   "source": [
    "# Crime Prediction\n",
    "\n",
    "## Problem Definition\n",
    "Given a day $d$ and geocoordinates $p$ in Chicago, what are the probabilities of each crime to happnen in this time frame and location?\n",
    "\n",
    "## Model - Linear Regression\n",
    "\n",
    "**[ECHT?!]** There is a different model for each crime type $L_{crime}$.\n",
    "\n",
    "### Structure\n",
    "\n",
    "For a specific day $d$,\n",
    "for a specific geocoordinates $p$,\n",
    "the **features** are calaculated.\n",
    "\n",
    "In other words, the model is blind to the (1) day $d$ and to the (2) location $p$. \n",
    "\n",
    "### Features\n",
    "\n",
    "1. $f_{KDE}$ - is different for each $L_{crime}$/\n",
    "2. $f$\n",
    "\n",
    "\n",
    "## Data Sets\n",
    "### Training Set - ECHT?!\n",
    "Training the model on a 31-day window.\n",
    "The first 30 days are used for calculating the features (predictors), for each crime in the last day.\n",
    "\n",
    "In other words, for each crime that happend in the last day, the location points are extracted (rows). For each one of these points (location + crime type), the features are calculated.\n",
    "\n",
    "To predict the occurrence of crime type T, we first defined a one-month training window (January 1, 2013 – January 31, 2013). We then put down labeled points (latitude/longitude pairs) across the city limits of Chicago. These points came from two sources: (1) from the locations of known crimes of type T within the training window (these points received a label T), and (2) from a grid of evenly spaced points at 200-meter intervals, not coinciding with points from the first set (these points received a label NONE).\n",
    "\n",
    "### Test Set\n",
    "\n",
    "**[ECHT?!]** Sounds stupid to me - in the training window i'm using information from the future to predict the past, this is not part of the practical modical execution! Maybe I don't understand what is written?\n",
    "\n",
    "Making predictions for the first day following the training window, and  sliding one day into the future and repeating. This mirrors a practical setup where a new predictions are run each day.\n",
    "\n",
    "The set of prediction points included those obtained by evenly spacing points at 200-meter intervals across the prediction area. We also added to the set of prediction points all points where crimes of type T occurred during the training window. We added these points to force higher-resolution predictions in areas where we had observed more crime in the past. In any case, a prediction point was simply a latitude-longitude pair containing no ground-truth information about future crime.\n",
    "\n",
    "\n",
    "## Technical Details\n",
    "\n",
    "* LibLinear\n",
    "* To counter the effects of class imbalance (there are far more negative points than positive points), we set LibLinear’s C parameter to N/P , with N and P being P the counts of negative and positive points in the training set, respectively.\n",
    "\n",
    "\n",
    "\n",
    "## Evaluation Crietria\n",
    "\n",
    " surveillance plot mea- sures the percentage of true T crimes during the prediction window (y-axis) that occur within the x% most threatened area according to the model’s prediction for T.\n",
    " \n",
    " We produced scalar summaries for surveillance curves by calculating the total area under the curve (AUC). Better prediction performance is indicated by curves that approach the upper-left corner of the plot area or, equivalently, by curves with higher AUC scores. An optimal prediction sorts the 200-meter pre-\n",
    "20\n",
    " \n",
    "          Aggregated (AUC=0.7211)\n",
    "                 0.0 0.2 0.4 0.6 0.8 1.0 % area surveilled\n",
    "Figure 7: Example surveillance plot showing the number of true crimes captured (y-axis) in the x% most threatened area according to the model’s prediction. AUC indicates total area under the surveillance curve.\n",
    "diction squares in descending order of how many future crimes they will contain. This property makes surveillance plots appropriate for decision makers, who must allocate scarce resources (e.g., police patrols) across the geographic space. Lastly, because each model execution produced a series of surveillance plots for crime type T , one for each prediction day, we aggre- gated the plots to measure a model’s overall performance. For example, to compute a model’s aggregate y-value for crime type T at an x-value of 5%, we first summed the number of true T crimes occurring in the top 5% most threatened area for each prediction day. We then divided that sum by the\n",
    "21\n",
    "% incidents captured\n",
    "0.0 0.2 0.4 0.6 0.8 1.0\n",
    "total number of true T crimes occurring across all prediction days. Doing this for each possible x-value produced an aggregate curve and aggregate AUC score, which we report in this article.\n"
   ]
  },
  {
   "cell_type": "code",
   "execution_count": null,
   "metadata": {},
   "outputs": [],
   "source": []
  },
  {
   "cell_type": "code",
   "execution_count": null,
   "metadata": {},
   "outputs": [],
   "source": [
    "\n"
   ]
  },
  {
   "cell_type": "code",
   "execution_count": null,
   "metadata": {},
   "outputs": [],
   "source": []
  }
 ],
 "metadata": {
  "kernelspec": {
   "display_name": "Python 3",
   "language": "python",
   "name": "python3"
  },
  "language_info": {
   "codemirror_mode": {
    "name": "ipython",
    "version": 3
   },
   "file_extension": ".py",
   "mimetype": "text/x-python",
   "name": "python",
   "nbconvert_exporter": "python",
   "pygments_lexer": "ipython3",
   "version": "3.6.3"
  }
 },
 "nbformat": 4,
 "nbformat_minor": 2
}
