{
 "cells": [
  {
   "cell_type": "code",
   "execution_count": 5,
   "metadata": {},
   "outputs": [],
   "source": [
    "# ANLP Project\n",
    "# Author: Karthik Ajith Kumar\n",
    "# Team Members: Shlomi Hod, Klaus Strauch, Vageesh Saxena, Alejandra Valdez\n",
    "#\n",
    "# The following code creates a spatial-grid by taking the UTM Coordinates of a city(or any area) and returns the \n",
    "# respective latitudes and longitudes, in our case, it is used to analyse the fetched tweets block-wise.\n",
    "\n",
    "import matplotlib.pyplot as plt\n",
    "import utm\n",
    "import math\n",
    "from shapely.geometry import Point, Polygon"
   ]
  },
  {
   "cell_type": "code",
   "execution_count": 16,
   "metadata": {},
   "outputs": [],
   "source": [
    "def generateGrid(coors, distance_offset):\n",
    "    \"\"\" Getting the grids of 1000 meters square.\n",
    "        \n",
    "        parameters: minx, miny, maxx, maxy \n",
    "        \n",
    "        returns: grid of the \n",
    "    \"\"\"\n",
    "    dx = distance_offset\n",
    "    dy = distance_offset\n",
    "\n",
    "    nx = int(math.ceil(abs(coors['up_right_x'] - coors['low_left_x'])/dx))\n",
    "    ny = int(math.ceil(abs(coors['up_right_y'] - coors['low_left_y'])/dy))\n",
    "    grid = []\n",
    "\n",
    "    for i in range(ny):\n",
    "        for j in range(nx):\n",
    "            vertices = []\n",
    "            vertices.append([coors['low_left_x']+dx*j,coors['low_left_y']+dy*i])\n",
    "            vertices.append([coors['low_left_x']+dx*(j+1),coors['low_left_y']+dy*i])\n",
    "            vertices.append([coors['low_left_x']+dx*(j+1),coors['low_left_y']+dy*(i+1)])\n",
    "            vertices.append([coors['low_left_x']+dx*j,coors['low_left_y']+dy*(i+1)])\n",
    "            grid.append(vertices)\n",
    "            \n",
    "    return grid"
   ]
  },
  {
   "cell_type": "code",
   "execution_count": 17,
   "metadata": {},
   "outputs": [],
   "source": [
    "def pointInPolygon(point, polygons):\n",
    "    pt = Point(point)\n",
    "    for poly in polygons:\n",
    "        pol = Polygon(poly)\n",
    "        if(pol.contains(pt)):\n",
    "            return(polygons.index(poly))\n",
    "    return \"It's not Chicago!\""
   ]
  },
  {
   "cell_type": "code",
   "execution_count": 20,
   "metadata": {},
   "outputs": [
    {
     "data": {
      "text/plain": [
       "901"
      ]
     },
     "execution_count": 20,
     "metadata": {},
     "output_type": "execute_result"
    }
   ],
   "source": [
    "# minimum and maximum X and Y coordinates to create the grid and the grid offset\n",
    "offset = 1000\n",
    "coors = {'low_left_x' : 421710.112401581, 'low_left_y' : 4610737.961457818, 'up_right_x' : 456608.39121255605, 'up_right_y' : 4652466.087380382}\n",
    "grid = generateGrid(coors, offset)\n",
    "\n",
    "#sample point\n",
    "lat,lon = 41.8781,-87.6298\n",
    "pt = utm.from_latlon(lat,lon)[0:2]\n",
    "pointInPolygon(pt,grid)"
   ]
  },
  {
   "cell_type": "code",
   "execution_count": null,
   "metadata": {},
   "outputs": [],
   "source": []
  }
 ],
 "metadata": {
  "kernelspec": {
   "display_name": "Python 3",
   "language": "python",
   "name": "python3"
  },
  "language_info": {
   "codemirror_mode": {
    "name": "ipython",
    "version": 3
   },
   "file_extension": ".py",
   "mimetype": "text/x-python",
   "name": "python",
   "nbconvert_exporter": "python",
   "pygments_lexer": "ipython3",
   "version": "3.6.3"
  }
 },
 "nbformat": 4,
 "nbformat_minor": 2
}
