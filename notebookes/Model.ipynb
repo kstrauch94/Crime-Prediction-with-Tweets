{
 "cells": [
  {
   "cell_type": "markdown",
   "metadata": {},
   "source": [
    "# TODO\n",
    "* LibLinear vs Scapy vs other?\n",
    "\n",
    "* Class imbalance in linear regreassion\n",
    "http://www.chioka.in/class-imbalance-problem/\n",
    "\n",
    "* What to use at all in negative points?\n",
    "\n",
    "* Read about all the grid details\n"
   ]
  },
  {
   "cell_type": "markdown",
   "metadata": {},
   "source": [
    "## Drawing a map\n",
    "\n",
    "using shapefiles with Basemap\n",
    "source of map: https://data.cityofchicago.org/Facilities-Geographic-Boundaries/Boundaries-Neighborhoods/9wp7-iasj\n",
    "programming docs: \n",
    "* https://stackoverflow.com/questions/21053081/mapping-gps-coordinates-around-chicago-using-basemap\n",
    "* https://basemaptutorial.readthedocs.io/en/latest/shapefile.html"
   ]
  },
  {
   "cell_type": "markdown",
   "metadata": {},
   "source": [
    "## KDE\n",
    "\n",
    "https://jakevdp.github.io/blog/2013/12/01/kernel-density-estimation/\n",
    "\n",
    "Bandwith Selection (Hpi):\n",
    "https://cran.r-project.org/web/packages/ks/ks.pdf\n",
    "\"we used the default plug-in bandwidth estimator (Hpi) with a dscalar pilot to obtain an optimal value for h. This standard approach is widely used by crime analysts to estimate crime densities.\"\n",
    "\n",
    "I'll use:\n",
    "https://docs.scipy.org/doc/scipy-0.19.1/reference/generated/scipy.stats.gaussian_kde.html\n",
    "\n",
    "\n",
    "Good code example:\n",
    "http://scikit-learn.org/stable/auto_examples/neighbors/plot_species_kde.html"
   ]
  },
  {
   "cell_type": "markdown",
   "metadata": {},
   "source": [
    "# Crime Prediction\n",
    "\n",
    "## Problem Definition\n",
    "Given a day $d$ and geocoordinates $p$ in Chicago, what are the probabilities of each crime to happnen in this time frame and location?\n",
    "\n",
    "## Model - Linear Regression\n",
    "\n",
    "**[ECHT?!]** There is a different model for each crime type $L_{crime}$.\n",
    "\n",
    "### Structure\n",
    "\n",
    "For a specific day $d$,\n",
    "for a specific geocoordinates $p$,\n",
    "the **features** are calaculated.\n",
    "\n",
    "In other words, the model is blind to the (1) day $d$ and to the (2) location $p$. \n",
    "\n",
    "### Features\n",
    "\n",
    "1. $f_{KDE}$ - is different for each $L_{crime}$/\n",
    "2. $f$\n",
    "\n",
    "\n",
    "## Data Sets\n",
    "### Training Set - ECHT?!\n",
    "Training the model on a 31-day window.\n",
    "The first 30 days are used for calculating the features (predictors), for each crime in the last day.\n",
    "\n",
    "In other words, for each crime that happend in the last day, the location points are extracted (rows). For each one of these points (location + crime type), the features are calculated.\n",
    "\n",
    "To predict the occurrence of crime type T, we first defined a one-month training window (January 1, 2013 – January 31, 2013). We then put down labeled points (latitude/longitude pairs) across the city limits of Chicago. These points came from two sources: (1) from the locations of known crimes of type T within the training window (these points received a label T), and (2) from a grid of evenly spaced points at 200-meter intervals, not coinciding with points from the first set (these points received a label NONE).\n",
    "\n",
    "### Test Set\n",
    "\n",
    "**[ECHT?!]** Sounds stupid to me - in the training window i'm using information from the future to predict the past, this is not part of the practical modical execution! Maybe I don't understand what is written?\n",
    "\n",
    "Making predictions for the first day following the training window, and  sliding one day into the future and repeating. This mirrors a practical setup where a new predictions are run each day.\n",
    "\n",
    "The set of prediction points included those obtained by evenly spacing points at 200-meter intervals across the prediction area. We also added to the set of prediction points all points where crimes of type T occurred during the training window. We added these points to force higher-resolution predictions in areas where we had observed more crime in the past. In any case, a prediction point was simply a latitude-longitude pair containing no ground-truth information about future crime.\n",
    "\n",
    "\n",
    "## Technical Details\n",
    "\n",
    "* LibLinear\n",
    "* To counter the effects of class imbalance (there are far more negative points than positive points), we set LibLinear’s C parameter to N/P , with N and P being P the counts of negative and positive points in the training set, respectively.\n",
    "\n",
    "\n",
    "\n",
    "## Evaluation Crietria\n",
    "\n",
    " surveillance plot mea- sures the percentage of true T crimes during the prediction window (y-axis) that occur within the x% most threatened area according to the model’s prediction for T.\n",
    " \n",
    " We produced scalar summaries for surveillance curves by calculating the total area under the curve (AUC). Better prediction performance is indicated by curves that approach the upper-left corner of the plot area or, equivalently, by curves with higher AUC scores. An optimal prediction sorts the 200-meter pre-\n",
    "20\n",
    " \n",
    "          Aggregated (AUC=0.7211)\n",
    "                 0.0 0.2 0.4 0.6 0.8 1.0 % area surveilled\n",
    "Figure 7: Example surveillance plot showing the number of true crimes captured (y-axis) in the x% most threatened area according to the model’s prediction. AUC indicates total area under the surveillance curve.\n",
    "diction squares in descending order of how many future crimes they will contain. This property makes surveillance plots appropriate for decision makers, who must allocate scarce resources (e.g., police patrols) across the geographic space. Lastly, because each model execution produced a series of surveillance plots for crime type T , one for each prediction day, we aggre- gated the plots to measure a model’s overall performance. For example, to compute a model’s aggregate y-value for crime type T at an x-value of 5%, we first summed the number of true T crimes occurring in the top 5% most threatened area for each prediction day. We then divided that sum by the\n",
    "21\n",
    "% incidents captured\n",
    "0.0 0.2 0.4 0.6 0.8 1.0\n",
    "total number of true T crimes occurring across all prediction days. Doing this for each possible x-value produced an aggregate curve and aggregate AUC score, which we report in this article.\n"
   ]
  },
  {
   "cell_type": "markdown",
   "metadata": {},
   "source": [
    "## LDA\n",
    "\n",
    "1000m x 1000m neighberhod grid\n",
    "N topics for each neighberhood given the tweets in the neigberhood\n",
    "Each neighberhood is a document, so we get the probability of each topic in the document\n",
    "\n",
    "It will be for the same point of 200 in 1000 the same topic, then using \"distance-weighted spatial interpolation\""
   ]
  },
  {
   "cell_type": "code",
   "execution_count": 1,
   "metadata": {},
   "outputs": [],
   "source": [
    "%matplotlib inline\n",
    "\n",
    "import numpy as np\n",
    "import pandas as pd\n",
    "import scipy as sp\n",
    "import seaborn as sns\n",
    "import matplotlib\n",
    "import matplotlib.pylab as plt\n",
    "\n",
    "from tqdm import tqdm_notebook"
   ]
  },
  {
   "cell_type": "code",
   "execution_count": 2,
   "metadata": {},
   "outputs": [],
   "source": [
    "crimes = pd.read_csv('../data/Crimes_-_2001_to_present.csv', nrows=1000)\n",
    "\n",
    "crimes.rename(columns={'Primary Type': 'type',\n",
    "                       'Longitude': 'lon',\n",
    "                       'Latitude': 'lat'}, inplace=True)\n",
    "\n",
    "crimes['timestamp'] = pd.to_datetime(crimes['Date'])"
   ]
  },
  {
   "cell_type": "code",
   "execution_count": null,
   "metadata": {},
   "outputs": [],
   "source": [
    "crimes.columns"
   ]
  },
  {
   "cell_type": "code",
   "execution_count": 3,
   "metadata": {},
   "outputs": [
    {
     "data": {
      "text/html": [
       "<div>\n",
       "<style scoped>\n",
       "    .dataframe tbody tr th:only-of-type {\n",
       "        vertical-align: middle;\n",
       "    }\n",
       "\n",
       "    .dataframe tbody tr th {\n",
       "        vertical-align: top;\n",
       "    }\n",
       "\n",
       "    .dataframe thead th {\n",
       "        text-align: right;\n",
       "    }\n",
       "</style>\n",
       "<table border=\"1\" class=\"dataframe\">\n",
       "  <thead>\n",
       "    <tr style=\"text-align: right;\">\n",
       "      <th></th>\n",
       "      <th>counts (x1000)</th>\n",
       "      <th>percents</th>\n",
       "    </tr>\n",
       "  </thead>\n",
       "  <tbody>\n",
       "    <tr>\n",
       "      <th>THEFT</th>\n",
       "      <td>187</td>\n",
       "      <td>18.700%</td>\n",
       "    </tr>\n",
       "    <tr>\n",
       "      <th>BATTERY</th>\n",
       "      <td>172</td>\n",
       "      <td>17.200%</td>\n",
       "    </tr>\n",
       "    <tr>\n",
       "      <th>NARCOTICS</th>\n",
       "      <td>125</td>\n",
       "      <td>12.500%</td>\n",
       "    </tr>\n",
       "    <tr>\n",
       "      <th>CRIMINAL DAMAGE</th>\n",
       "      <td>105</td>\n",
       "      <td>10.500%</td>\n",
       "    </tr>\n",
       "    <tr>\n",
       "      <th>MOTOR VEHICLE THEFT</th>\n",
       "      <td>65</td>\n",
       "      <td>6.500%</td>\n",
       "    </tr>\n",
       "    <tr>\n",
       "      <th>OTHER OFFENSE</th>\n",
       "      <td>63</td>\n",
       "      <td>6.300%</td>\n",
       "    </tr>\n",
       "    <tr>\n",
       "      <th>ASSAULT</th>\n",
       "      <td>60</td>\n",
       "      <td>6.000%</td>\n",
       "    </tr>\n",
       "    <tr>\n",
       "      <th>BURGLARY</th>\n",
       "      <td>46</td>\n",
       "      <td>4.600%</td>\n",
       "    </tr>\n",
       "    <tr>\n",
       "      <th>CRIMINAL TRESPASS</th>\n",
       "      <td>42</td>\n",
       "      <td>4.200%</td>\n",
       "    </tr>\n",
       "    <tr>\n",
       "      <th>ROBBERY</th>\n",
       "      <td>42</td>\n",
       "      <td>4.200%</td>\n",
       "    </tr>\n",
       "    <tr>\n",
       "      <th>DECEPTIVE PRACTICE</th>\n",
       "      <td>35</td>\n",
       "      <td>3.500%</td>\n",
       "    </tr>\n",
       "    <tr>\n",
       "      <th>PROSTITUTION</th>\n",
       "      <td>17</td>\n",
       "      <td>1.700%</td>\n",
       "    </tr>\n",
       "    <tr>\n",
       "      <th>PUBLIC PEACE VIOLATION</th>\n",
       "      <td>8</td>\n",
       "      <td>0.800%</td>\n",
       "    </tr>\n",
       "    <tr>\n",
       "      <th>LIQUOR LAW VIOLATION</th>\n",
       "      <td>8</td>\n",
       "      <td>0.800%</td>\n",
       "    </tr>\n",
       "    <tr>\n",
       "      <th>WEAPONS VIOLATION</th>\n",
       "      <td>8</td>\n",
       "      <td>0.800%</td>\n",
       "    </tr>\n",
       "    <tr>\n",
       "      <th>OFFENSE INVOLVING CHILDREN</th>\n",
       "      <td>6</td>\n",
       "      <td>0.600%</td>\n",
       "    </tr>\n",
       "    <tr>\n",
       "      <th>CRIM SEXUAL ASSAULT</th>\n",
       "      <td>4</td>\n",
       "      <td>0.400%</td>\n",
       "    </tr>\n",
       "    <tr>\n",
       "      <th>INTERFERENCE WITH PUBLIC OFFICER</th>\n",
       "      <td>2</td>\n",
       "      <td>0.200%</td>\n",
       "    </tr>\n",
       "    <tr>\n",
       "      <th>ARSON</th>\n",
       "      <td>2</td>\n",
       "      <td>0.200%</td>\n",
       "    </tr>\n",
       "    <tr>\n",
       "      <th>SEX OFFENSE</th>\n",
       "      <td>1</td>\n",
       "      <td>0.100%</td>\n",
       "    </tr>\n",
       "    <tr>\n",
       "      <th>GAMBLING</th>\n",
       "      <td>1</td>\n",
       "      <td>0.100%</td>\n",
       "    </tr>\n",
       "    <tr>\n",
       "      <th>HOMICIDE</th>\n",
       "      <td>1</td>\n",
       "      <td>0.100%</td>\n",
       "    </tr>\n",
       "  </tbody>\n",
       "</table>\n",
       "</div>"
      ],
      "text/plain": [
       "                                  counts (x1000) percents\n",
       "THEFT                                        187  18.700%\n",
       "BATTERY                                      172  17.200%\n",
       "NARCOTICS                                    125  12.500%\n",
       "CRIMINAL DAMAGE                              105  10.500%\n",
       "MOTOR VEHICLE THEFT                           65   6.500%\n",
       "OTHER OFFENSE                                 63   6.300%\n",
       "ASSAULT                                       60   6.000%\n",
       "BURGLARY                                      46   4.600%\n",
       "CRIMINAL TRESPASS                             42   4.200%\n",
       "ROBBERY                                       42   4.200%\n",
       "DECEPTIVE PRACTICE                            35   3.500%\n",
       "PROSTITUTION                                  17   1.700%\n",
       "PUBLIC PEACE VIOLATION                         8   0.800%\n",
       "LIQUOR LAW VIOLATION                           8   0.800%\n",
       "WEAPONS VIOLATION                              8   0.800%\n",
       "OFFENSE INVOLVING CHILDREN                     6   0.600%\n",
       "CRIM SEXUAL ASSAULT                            4   0.400%\n",
       "INTERFERENCE WITH PUBLIC OFFICER               2   0.200%\n",
       "ARSON                                          2   0.200%\n",
       "SEX OFFENSE                                    1   0.100%\n",
       "GAMBLING                                       1   0.100%\n",
       "HOMICIDE                                       1   0.100%"
      ]
     },
     "execution_count": 3,
     "metadata": {},
     "output_type": "execute_result"
    }
   ],
   "source": [
    "pd.DataFrame({\n",
    "    'counts (x1000)': crimes['type'].value_counts(),\n",
    "    'percents': (crimes['type'].value_counts(normalize=True) * 100).apply(lambda x : '{:.3f}%'.format(x))\n",
    "})"
   ]
  },
  {
   "cell_type": "code",
   "execution_count": 5,
   "metadata": {},
   "outputs": [],
   "source": [
    "jan17_crimes = crimes[(crimes['timestamp'] >= '2017-01-01') & (crimes['timestamp'] <= '2017-01-31')]"
   ]
  },
  {
   "cell_type": "code",
   "execution_count": 9,
   "metadata": {},
   "outputs": [
    {
     "name": "stderr",
     "output_type": "stream",
     "text": [
      "/usr/local/lib/python3.6/site-packages/mpl_toolkits/basemap/__init__.py:4773: RuntimeWarning: invalid value encountered in greater\n",
      "  lonsin = np.where(lonsin > lon_0+180, lonsin-360 ,lonsin)\n",
      "/usr/local/lib/python3.6/site-packages/mpl_toolkits/basemap/__init__.py:4774: RuntimeWarning: invalid value encountered in less\n",
      "  lonsin = np.where(lonsin < lon_0-180, lonsin+360 ,lonsin)\n",
      "/usr/local/lib/python3.6/site-packages/mpl_toolkits/basemap/__init__.py:4780: RuntimeWarning: invalid value encountered in greater_equal\n",
      "  itemindex = len(lonsin)-np.where(londiff>=thresh)[0]\n",
      "/usr/local/lib/python3.6/site-packages/mpl_toolkits/basemap/__init__.py:4811: RuntimeWarning: invalid value encountered in less\n",
      "  mask = np.logical_or(lonsin<lon_0-180,lonsin>lon_0+180)\n",
      "/usr/local/lib/python3.6/site-packages/mpl_toolkits/basemap/__init__.py:4811: RuntimeWarning: invalid value encountered in greater\n",
      "  mask = np.logical_or(lonsin<lon_0-180,lonsin>lon_0+180)\n"
     ]
    },
    {
     "data": {
      "image/png": "[encoded data removed]",
      "text/plain": [
       "<matplotlib.figure.Figure at 0x10ba187f0>"
      ]
     },
     "metadata": {},
     "output_type": "display_data"
    }
   ],
   "source": [
    "from mpl_toolkits.basemap import Basemap\n",
    "\n",
    "#                   Lower Left Corner     Upper Right Corner\n",
    "CHICAGO_COORDS = {'ll': {'lon': -87.94011, 'lat': 41.64454},\n",
    "                  'ur': {'lon': -87.52413, 'lat': 42.02303}}\n",
    "\n",
    "from mpl_toolkits.basemap import Basemap\n",
    "import matplotlib.pyplot as plt\n",
    "\n",
    "\n",
    "m = Basemap(llcrnrlon=CHICAGO_COORDS['ll']['lon'],\n",
    "              llcrnrlat=CHICAGO_COORDS['ll']['lat'],\n",
    "              urcrnrlon=CHICAGO_COORDS['ur']['lon'],\n",
    "              urcrnrlat=CHICAGO_COORDS['ur']['lat'],\n",
    "             resolution='i',\n",
    "            projection='merc', lat_0=36.66666666666666, lon_0=36.6)\n",
    "\n",
    "m.drawcoastlines()\n",
    "#m.drawstates()\n",
    "m.drawmapboundary(fill_color='white')\n",
    "#m.readshapefile('../data/chicago_neighborhoods_maps/Neighborhoods_2012b', 'chicago')\n",
    "\n",
    "k=1000\n",
    "m.scatter(crimes['lon'].head(k).as_matrix(),\n",
    "          crimes['lat'].head(k).as_matrix(),\n",
    "          latlon=True,\n",
    "          marker='.',color='m')\n",
    "\n",
    "\n",
    "plt.show()"
   ]
  },
  {
   "cell_type": "code",
   "execution_count": null,
   "metadata": {},
   "outputs": [],
   "source": [
    "def construct_grids(batch):\n",
    "    \"\"\"Construct the map grid from the batch object\n",
    "\n",
    "    Parameters\n",
    "    ----------\n",
    "    batch : Batch object\n",
    "        The object returned by :func:`fetch_species_distributions`\n",
    "\n",
    "    Returns\n",
    "    -------\n",
    "    (xgrid, ygrid) : 1-D arrays\n",
    "        The grid corresponding to the values in batch.coverages\n",
    "    \"\"\"\n",
    "    # x,y coordinates for corner cells\n",
    "    xmin = batch.x_left_lower_corner + batch.grid_size\n",
    "    xmax = xmin + (batch.Nx * batch.grid_size)\n",
    "    ymin = batch.y_left_lower_corner + batch.grid_size\n",
    "    ymax = ymin + (batch.Ny * batch.grid_size)\n",
    "\n",
    "    # x coordinates of the grid cells\n",
    "    xgrid = np.arange(xmin, xmax, batch.grid_size)\n",
    "    # y coordinates of the grid cells\n",
    "    ygrid = np.arange(ymin, ymax, batch.grid_size)\n",
    "\n",
    "    return (xgrid, ygrid)"
   ]
  },
  {
   "cell_type": "code",
   "execution_count": 16,
   "metadata": {},
   "outputs": [
    {
     "data": {
      "text/plain": [
       "(1624, 2)"
      ]
     },
     "execution_count": 16,
     "metadata": {},
     "output_type": "execute_result"
    }
   ],
   "source": [
    "Xtrain.shape"
   ]
  },
  {
   "cell_type": "code",
   "execution_count": 17,
   "metadata": {},
   "outputs": [
    {
     "data": {
      "text/plain": [
       "(array([-94.75, -94.7 , -94.65, ..., -34.3 , -34.25, -34.2 ]),\n",
       " array([-56.  , -55.95, -55.9 , ...,  23.45,  23.5 ,  23.55]))"
      ]
     },
     "execution_count": 17,
     "metadata": {},
     "output_type": "execute_result"
    }
   ],
   "source": [
    "construct_grids(data)"
   ]
  },
  {
   "cell_type": "code",
   "execution_count": 20,
   "metadata": {},
   "outputs": [],
   "source": [
    "X, Y = np.meshgrid(xgrid[::5], ygrid[::5][::-1])"
   ]
  },
  {
   "cell_type": "code",
   "execution_count": 21,
   "metadata": {},
   "outputs": [
    {
     "data": {
      "text/plain": [
       "array([[-94.75, -94.5 , -94.25, ..., -34.75, -34.5 , -34.25],\n",
       "       [-94.75, -94.5 , -94.25, ..., -34.75, -34.5 , -34.25],\n",
       "       [-94.75, -94.5 , -94.25, ..., -34.75, -34.5 , -34.25],\n",
       "       ..., \n",
       "       [-94.75, -94.5 , -94.25, ..., -34.75, -34.5 , -34.25],\n",
       "       [-94.75, -94.5 , -94.25, ..., -34.75, -34.5 , -34.25],\n",
       "       [-94.75, -94.5 , -94.25, ..., -34.75, -34.5 , -34.25]])"
      ]
     },
     "execution_count": 21,
     "metadata": {},
     "output_type": "execute_result"
    }
   ],
   "source": [
    "X"
   ]
  },
  {
   "cell_type": "code",
   "execution_count": 22,
   "metadata": {},
   "outputs": [],
   "source": [
    "np.meshgrid?"
   ]
  },
  {
   "cell_type": "code",
   "execution_count": null,
   "metadata": {},
   "outputs": [],
   "source": []
  },
  {
   "cell_type": "code",
   "execution_count": null,
   "metadata": {},
   "outputs": [],
   "source": []
  },
  {
   "cell_type": "code",
   "execution_count": null,
   "metadata": {},
   "outputs": [],
   "source": []
  },
  {
   "cell_type": "code",
   "execution_count": null,
   "metadata": {},
   "outputs": [],
   "source": []
  },
  {
   "cell_type": "code",
   "execution_count": null,
   "metadata": {},
   "outputs": [],
   "source": []
  },
  {
   "cell_type": "code",
   "execution_count": 10,
   "metadata": {},
   "outputs": [
    {
     "name": "stderr",
     "output_type": "stream",
     "text": [
      "Downloading species data from https://ndownloader.figshare.com/files/5976075 to /Users/shlomi/scikit_learn_data\n",
      "Downloading coverage data from https://ndownloader.figshare.com/files/5976078 to /Users/shlomi/scikit_learn_data\n"
     ]
    },
    {
     "name": "stdout",
     "output_type": "stream",
     "text": [
      " - computing KDE in spherical coordinates\n",
      " - plot coastlines using basemap\n",
      " - computing KDE in spherical coordinates\n",
      " - plot coastlines using basemap\n"
     ]
    },
    {
     "data": {
      "image/png": "[encoded data removed]",
      "text/plain": [
       "<matplotlib.figure.Figure at 0x1127625f8>"
      ]
     },
     "metadata": {},
     "output_type": "display_data"
    }
   ],
   "source": [
    "\n",
    "import numpy as np\n",
    "import matplotlib.pyplot as plt\n",
    "from sklearn.datasets import fetch_species_distributions\n",
    "from sklearn.datasets.species_distributions import construct_grids\n",
    "from sklearn.neighbors import KernelDensity\n",
    "\n",
    "# if basemap is available, we'll use it.\n",
    "# otherwise, we'll improvise later...\n",
    "try:\n",
    "    from mpl_toolkits.basemap import Basemap\n",
    "    basemap = True\n",
    "except ImportError:\n",
    "    basemap = False\n",
    "\n",
    "# Get matrices/arrays of species IDs and locations\n",
    "data = fetch_species_distributions()\n",
    "species_names = ['Bradypus Variegatus', 'Microryzomys Minutus']\n",
    "\n",
    "Xtrain = np.vstack([data['train']['dd lat'],\n",
    "                    data['train']['dd long']]).T\n",
    "ytrain = np.array([d.decode('ascii').startswith('micro')\n",
    "                  for d in data['train']['species']], dtype='int')\n",
    "Xtrain *= np.pi / 180.  # Convert lat/long to radians\n",
    "\n",
    "# Set up the data grid for the contour plot\n",
    "xgrid, ygrid = construct_grids(data)\n",
    "X, Y = np.meshgrid(xgrid[::5], ygrid[::5][::-1])\n",
    "land_reference = data.coverages[6][::5, ::5]\n",
    "land_mask = (land_reference > -9999).ravel()\n",
    "\n",
    "xy = np.vstack([Y.ravel(), X.ravel()]).T\n",
    "xy = xy[land_mask]\n",
    "xy *= np.pi / 180.\n",
    "\n",
    "# Plot map of South America with distributions of each species\n",
    "fig = plt.figure()\n",
    "fig.subplots_adjust(left=0.05, right=0.95, wspace=0.05)\n",
    "\n",
    "for i in range(2):\n",
    "    plt.subplot(1, 2, i + 1)\n",
    "\n",
    "    # construct a kernel density estimate of the distribution\n",
    "    print(\" - computing KDE in spherical coordinates\")\n",
    "    kde = KernelDensity(bandwidth=0.04, metric='haversine',\n",
    "                        kernel='gaussian', algorithm='ball_tree')\n",
    "    kde.fit(Xtrain[ytrain == i])\n",
    "\n",
    "    # evaluate only on the land: -9999 indicates ocean\n",
    "    Z = -9999 + np.zeros(land_mask.shape[0])\n",
    "    Z[land_mask] = np.exp(kde.score_samples(xy))\n",
    "    Z = Z.reshape(X.shape)\n",
    "\n",
    "    # plot contours of the density\n",
    "    levels = np.linspace(0, Z.max(), 25)\n",
    "    plt.contourf(X, Y, Z, levels=levels, cmap=plt.cm.Reds)\n",
    "\n",
    "    if basemap:\n",
    "        print(\" - plot coastlines using basemap\")\n",
    "        m = Basemap(projection='cyl', llcrnrlat=Y.min(),\n",
    "                    urcrnrlat=Y.max(), llcrnrlon=X.min(),\n",
    "                    urcrnrlon=X.max(), resolution='c')\n",
    "        m.drawcoastlines()\n",
    "        m.drawcountries()\n",
    "    else:\n",
    "        print(\" - plot coastlines from coverage\")\n",
    "        plt.contour(X, Y, land_reference,\n",
    "                    levels=[-9999], colors=\"k\",\n",
    "                    linestyles=\"solid\")\n",
    "        plt.xticks([])\n",
    "        plt.yticks([])\n",
    "\n",
    "    plt.title(species_names[i])\n",
    "\n",
    "plt.show()"
   ]
  }
 ],
 "metadata": {
  "kernelspec": {
   "display_name": "Python 3",
   "language": "python",
   "name": "python3"
  },
  "language_info": {
   "codemirror_mode": {
    "name": "ipython",
    "version": 3
   },
   "file_extension": ".py",
   "mimetype": "text/x-python",
   "name": "python",
   "nbconvert_exporter": "python",
   "pygments_lexer": "ipython3",
   "version": "3.6.3"
  }
 },
 "nbformat": 4,
 "nbformat_minor": 2
}
