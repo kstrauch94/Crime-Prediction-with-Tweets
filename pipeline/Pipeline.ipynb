{
 "cells": [
  {
   "cell_type": "markdown",
   "metadata": {},
   "source": [
    "# Crime Prediction using Tweets and KDE"
   ]
  },
  {
   "cell_type": "code",
   "execution_count": 15,
   "metadata": {
    "collapsed": true
   },
   "outputs": [],
   "source": [
    "%matplotlib inline\n",
    "\n",
    "import matplotlib.pylab as plt\n",
    "import numpy as np\n",
    "import pandas as pd"
   ]
  },
  {
   "cell_type": "markdown",
   "metadata": {},
   "source": [
    "![title](./ANLP-Project-Pipeline.png)"
   ]
  },
  {
   "cell_type": "markdown",
   "metadata": {},
   "source": [
    "## Data Sources"
   ]
  },
  {
   "cell_type": "markdown",
   "metadata": {},
   "source": [
    "### Chicago Crimes Incidents"
   ]
  },
  {
   "cell_type": "code",
   "execution_count": null,
   "metadata": {
    "collapsed": true
   },
   "outputs": [],
   "source": []
  },
  {
   "cell_type": "markdown",
   "metadata": {},
   "source": [
    "### Tweets"
   ]
  },
  {
   "cell_type": "code",
   "execution_count": null,
   "metadata": {
    "collapsed": true
   },
   "outputs": [],
   "source": []
  },
  {
   "cell_type": "markdown",
   "metadata": {},
   "source": [
    "## Data Preprocessing"
   ]
  },
  {
   "cell_type": "markdown",
   "metadata": {},
   "source": [
    "### Tokenizer"
   ]
  },
  {
   "cell_type": "markdown",
   "metadata": {},
   "source": [
    "### Sub-grouping by Geo-Location"
   ]
  },
  {
   "cell_type": "markdown",
   "metadata": {},
   "source": [
    "## Feature Extracts"
   ]
  },
  {
   "cell_type": "markdown",
   "metadata": {},
   "source": [
    "### KDE"
   ]
  },
  {
   "cell_type": "markdown",
   "metadata": {},
   "source": [
    "### Sentiment Analysis"
   ]
  },
  {
   "cell_type": "markdown",
   "metadata": {},
   "source": [
    "### LDA"
   ]
  },
  {
   "cell_type": "code",
   "execution_count": 1,
   "metadata": {
    "collapsed": true
   },
   "outputs": [],
   "source": [
    "td = [[\"this is not a tweet\", \"tweeter soks :)\", \"I do not want to party :/\"],[\"#creizi yeee\", \"shooting outside!\"],[\"where am i?\", \"this is not a drill, please do NOT drink milk\"]]"
   ]
  },
  {
   "cell_type": "code",
   "execution_count": 22,
   "metadata": {},
   "outputs": [],
   "source": [
    "from sklearn.decomposition import LatentDirichletAllocation\n",
    "from sklearn.feature_extraction.text import CountVectorizer\n",
    "\n",
    "def coalesce(token):\n",
    "    new_tokens = []\n",
    "    for char in token:\n",
    "        if len(new_tokens) < 2 or char != new_tokens[-1] or char != new_tokens[-2]:\n",
    "            new_tokens.append(char)\n",
    "    return ''.join(new_tokens)\n",
    "\n",
    "def preprocess(text):\n",
    "    # text input is one string\n",
    "    # output is tokenized and preprocessed(as defined below) text\n",
    "    \n",
    "    # lowercase\n",
    "    # no hashtags or mentions\n",
    "    # any url converted to \"url\"\n",
    "    # replace multiple repeated chars with 2 of them. eg paaaarty -> paarty\n",
    "    \n",
    "    text = text.lower()\n",
    "    \n",
    "    tokens = []\n",
    "    for token in text.split():\n",
    "        if token.startswith(\"@\") or token.startswith(\"#\"):\n",
    "            continue\n",
    "        elif token.startswith(\"https://\") or token.startswith(\"http://\"):\n",
    "            tokens.append(u\"url\")\n",
    "        else:\n",
    "            tokens.append(coalesce(token))\n",
    "            \n",
    "    return tokens\n",
    "\n",
    "def process_documents_lda(docs):\n",
    "    # assume a document is a list of tweets\n",
    "    # join tweets in a document by whitespace\n",
    "    for d in docs:\n",
    "        print(\" \".join(d))\n",
    "    return [\" \".join(d) for d in docs]\n",
    "\n",
    "def print_top_words(model, feature_names, n_top_words):\n",
    "    for topic_idx, topic in enumerate(model.components_):\n",
    "        message = \"Topic #%d: \" % topic_idx\n",
    "        message += \" \".join([feature_names[i]\n",
    "                             for i in topic.argsort()[:-n_top_words - 1:-1]])\n",
    "        print(message)\n",
    "    print()\n",
    "    \n",
    "def learn_lda(tweet_docs, preprocess=None, tokenizer=None):\n",
    "    \n",
    "    docs = process_documents_lda(tweet_docs)\n",
    "    \n",
    "    vectorizer = CountVectorizer(stop_words=\"english\", preprocessor=preprocess, tokenizer=tokenizer)\n",
    "\n",
    "    X = vectorizer.fit_transform(docs)\n",
    "\n",
    "    lda = LatentDirichletAllocation(n_components=5, max_iter=5, learning_method='online', learning_offset=50., random_state=42)\n",
    "\n",
    "    lda.fit(X)\n",
    "    \n",
    "    print_top_words(lda, vectorizer.get_feature_names(), 2)\n",
    "    \n",
    "    return lda"
   ]
  },
  {
   "cell_type": "code",
   "execution_count": 23,
   "metadata": {},
   "outputs": [
    {
     "name": "stdout",
     "output_type": "stream",
     "text": [
      "this is not a tweet tweeter soks :) I do not want to party :/\n",
      "#creizi yeee shooting outside!\n",
      "where am i? this is not a drill, please do NOT drink milk\n",
      "Topic #0: i? milk\n",
      "Topic #1: outside! tweet\n",
      "Topic #2: :/ party\n",
      "Topic #3: drink yee\n",
      "Topic #4: yee shooting\n",
      "\n"
     ]
    }
   ],
   "source": [
    "lda = learn_lda(td, preprocess=preprocess, tokenizer=lambda x:x)\n"
   ]
  },
  {
   "cell_type": "markdown",
   "metadata": {},
   "source": [
    "## Model Training & Evaluation"
   ]
  },
  {
   "cell_type": "markdown",
   "metadata": {},
   "source": [
    "### Training"
   ]
  },
  {
   "cell_type": "markdown",
   "metadata": {},
   "source": [
    "### Evaluation"
   ]
  }
 ],
 "metadata": {
  "kernelspec": {
   "display_name": "Python 3",
   "language": "python",
   "name": "python3"
  },
  "language_info": {
   "codemirror_mode": {
    "name": "ipython",
    "version": 3
   },
   "file_extension": ".py",
   "mimetype": "text/x-python",
   "name": "python",
   "nbconvert_exporter": "python",
   "pygments_lexer": "ipython3",
   "version": "3.6.2"
  }
 },
 "nbformat": 4,
 "nbformat_minor": 2
}
