{
 "cells": [
  {
   "cell_type": "markdown",
   "metadata": {},
   "source": [
    "# Crime Prediction using Tweets and KDE"
   ]
  },
  {
   "cell_type": "code",
   "execution_count": 2,
   "metadata": {},
   "outputs": [],
   "source": [
    "%matplotlib inline\n",
    "\n",
    "import os\n",
    "import glob\n",
    "import functools\n",
    "\n",
    "import matplotlib.pylab as plt\n",
    "import numpy as np\n",
    "import pandas as pd\n",
    "import seaborn as sns\n",
    "\n",
    "from tqdm import tqdm_notebook"
   ]
  },
  {
   "cell_type": "code",
   "execution_count": 3,
   "metadata": {},
   "outputs": [],
   "source": [
    "CHICAGO_COORDS = {'ll': {'longitude': -87.94011, 'latitude': 41.64454}, # Lower Left Corner \n",
    "                  'ur': {'longitude': -87.52413, 'latitude': 42.02303}} # Upper Right Corner\n",
    "\n",
    "TRAIN_STRART_DATE = '2017-12-21'\n",
    "TRAIN_END_DATE = '2018-01-21'\n",
    "TEST_STRART_DATE = '2018-01-22'\n",
    "TEST_END_DATE = '2018-02-22'\n",
    "\n",
    "CRIME_TYPE = 'THEFT'\n",
    "\n",
    "GEO_CELL_SIZE = 1000 #meter\n",
    "N_LATITUDE_CELLS = 35\n",
    "N_LONGITUDE_CELLS = 42\n"
   ]
  },
  {
   "cell_type": "code",
   "execution_count": 32,
   "metadata": {},
   "outputs": [],
   "source": [
    "import imp\n",
    "import utils.geo\n",
    "from utils.geo import enrich_with_grid_coords, \\\n",
    "                        filter_by_geo_coord\n",
    "imp.reload(utils.geo)\n",
    "enrich_with_chicago_grid_1000 = functools.partial(utils.geo.enrich_with_grid_coords,\n",
    "                                                 bounderies=CHICAGO_COORDS,\n",
    "                                                 cell_size=GEO_CELL_SIZE)\n",
    "\n",
    "filter_by_chicago_coord = functools.partial(utils.geo.filter_by_geo_coord,\n",
    "                                            bounderies=CHICAGO_COORDS)\n"
   ]
  },
  {
   "cell_type": "markdown",
   "metadata": {},
   "source": [
    "![title](./ANLP-Project-Pipeline.png)"
   ]
  },
  {
   "cell_type": "markdown",
   "metadata": {},
   "source": [
    "## Data Sources"
   ]
  },
  {
   "cell_type": "markdown",
   "metadata": {},
   "source": [
    "### Chicago Crimes Incidents"
   ]
  },
  {
   "cell_type": "markdown",
   "metadata": {},
   "source": [
    "#### Load original data"
   ]
  },
  {
   "cell_type": "code",
   "execution_count": 213,
   "metadata": {},
   "outputs": [],
   "source": [
    "crimes_data = pd.read_csv('./data/[180217]Crimes_-_2001_to_present.csv')"
   ]
  },
  {
   "cell_type": "markdown",
   "metadata": {},
   "source": [
    "#### Prepare columns"
   ]
  },
  {
   "cell_type": "code",
   "execution_count": 214,
   "metadata": {},
   "outputs": [],
   "source": [
    "crimes_data = crimes_data[['Date', 'Primary Type', 'Latitude', 'Longitude']]\n",
    "crimes_data = crimes_data.rename(index=str,\n",
    "                                 columns={'Date'        : 'timestamp',\n",
    "                                          'Primary Type': 'type',\n",
    "                                          'Latitude'    : 'latitude',\n",
    "                                          'Longitude'   : 'longitude'})"
   ]
  },
  {
   "cell_type": "code",
   "execution_count": 215,
   "metadata": {},
   "outputs": [],
   "source": [
    "CHICAGO_CRIME_DATA_TIMESTAMP_FORMAT = '%m/%d/%Y %H:%M:%S %p'\n",
    "\n",
    "crimes_data['timestamp'] = pd.to_datetime(\n",
    "    crimes_data['timestamp'],\n",
    "    format=CHICAGO_CRIME_DATA_TIMESTAMP_FORMAT\n",
    ")"
   ]
  },
  {
   "cell_type": "markdown",
   "metadata": {},
   "source": [
    "#### Filter relavent crimes for the research time window"
   ]
  },
  {
   "cell_type": "code",
   "execution_count": 216,
   "metadata": {},
   "outputs": [],
   "source": [
    "crimes_data = crimes_data[(crimes_data['timestamp'] >= TRAIN_STRART_DATE) &\n",
    "                          (crimes_data['timestamp'] <= TEST_END_DATE)]"
   ]
  },
  {
   "cell_type": "markdown",
   "metadata": {},
   "source": [
    "#### Filter tweets to be exactly inside chicago box"
   ]
  },
  {
   "cell_type": "code",
   "execution_count": 307,
   "metadata": {},
   "outputs": [],
   "source": [
    "crimes_data = filter_by_chicago_coord(crimes_data)"
   ]
  },
  {
   "cell_type": "markdown",
   "metadata": {},
   "source": [
    "#### Crimes Types Histogram"
   ]
  },
  {
   "cell_type": "code",
   "execution_count": 217,
   "metadata": {},
   "outputs": [
    {
     "data": {
      "image/png": "[encoded data removed]",
      "text/plain": [
       "<matplotlib.figure.Figure at 0x216789b38>"
      ]
     },
     "metadata": {},
     "output_type": "display_data"
    }
   ],
   "source": [
    "crime_types_probs = crimes_data['type'].value_counts(normalize=True, ascending=True)\n",
    "crime_types_precents = crime_types_probs * 100\n",
    "crime_types_precents = crime_types_precents[crime_types_precents > 1]\n",
    "crime_types_precents.astype(int)\n",
    "crime_types_precents.plot(kind='barh', color='blue')\n",
    "plt.title('Crimes Types Precentages')\n",
    "plt.xlabel('%')\n",
    "plt.ylabel('Crime Types')\n",
    "plt.xticks(range(0, 30, 5))\n",
    "None"
   ]
  },
  {
   "cell_type": "markdown",
   "metadata": {},
   "source": [
    "#### Filter crime types (only THEFT, the most common crime)"
   ]
  },
  {
   "cell_type": "code",
   "execution_count": 218,
   "metadata": {},
   "outputs": [],
   "source": [
    "crimes_data = crimes_data[crimes_data['type'] == CRIME_TYPE]\n",
    "crimes_data = crimes_data[['timestamp', 'latitude', 'longitude']]"
   ]
  },
  {
   "cell_type": "code",
   "execution_count": 219,
   "metadata": {},
   "outputs": [
    {
     "data": {
      "text/html": [
       "<div>\n",
       "<style scoped>\n",
       "    .dataframe tbody tr th:only-of-type {\n",
       "        vertical-align: middle;\n",
       "    }\n",
       "\n",
       "    .dataframe tbody tr th {\n",
       "        vertical-align: top;\n",
       "    }\n",
       "\n",
       "    .dataframe thead th {\n",
       "        text-align: right;\n",
       "    }\n",
       "</style>\n",
       "<table border=\"1\" class=\"dataframe\">\n",
       "  <thead>\n",
       "    <tr style=\"text-align: right;\">\n",
       "      <th></th>\n",
       "      <th>timestamp</th>\n",
       "      <th>latitude</th>\n",
       "      <th>longitude</th>\n",
       "    </tr>\n",
       "  </thead>\n",
       "  <tbody>\n",
       "    <tr>\n",
       "      <th>1858</th>\n",
       "      <td>2018-02-04 11:00:00</td>\n",
       "      <td>41.769953</td>\n",
       "      <td>-87.628286</td>\n",
       "    </tr>\n",
       "    <tr>\n",
       "      <th>2901</th>\n",
       "      <td>2018-02-04 10:00:00</td>\n",
       "      <td>41.799876</td>\n",
       "      <td>-87.603929</td>\n",
       "    </tr>\n",
       "    <tr>\n",
       "      <th>3075</th>\n",
       "      <td>2018-02-04 09:30:00</td>\n",
       "      <td>41.933941</td>\n",
       "      <td>-87.645807</td>\n",
       "    </tr>\n",
       "    <tr>\n",
       "      <th>3225</th>\n",
       "      <td>2018-02-04 10:00:00</td>\n",
       "      <td>41.793263</td>\n",
       "      <td>-87.642699</td>\n",
       "    </tr>\n",
       "    <tr>\n",
       "      <th>3269</th>\n",
       "      <td>2018-02-04 10:00:00</td>\n",
       "      <td>41.722578</td>\n",
       "      <td>-87.662707</td>\n",
       "    </tr>\n",
       "  </tbody>\n",
       "</table>\n",
       "</div>"
      ],
      "text/plain": [
       "               timestamp   latitude  longitude\n",
       "1858 2018-02-04 11:00:00  41.769953 -87.628286\n",
       "2901 2018-02-04 10:00:00  41.799876 -87.603929\n",
       "3075 2018-02-04 09:30:00  41.933941 -87.645807\n",
       "3225 2018-02-04 10:00:00  41.793263 -87.642699\n",
       "3269 2018-02-04 10:00:00  41.722578 -87.662707"
      ]
     },
     "execution_count": 219,
     "metadata": {},
     "output_type": "execute_result"
    }
   ],
   "source": [
    "crimes_data.head()"
   ]
  },
  {
   "cell_type": "code",
   "execution_count": 272,
   "metadata": {},
   "outputs": [
    {
     "data": {
      "image/png": "[encoded data removed]",
      "text/plain": [
       "<matplotlib.figure.Figure at 0x221630da0>"
      ]
     },
     "metadata": {},
     "output_type": "display_data"
    }
   ],
   "source": [
    "(pd.Series(np.ones(len(crimes_data)), index=crimes_data['timestamp'])\n",
    " .resample('D')\n",
    " .sum()\n",
    " .plot())\n",
    "\n",
    "plt.title('Number of Theft Crime Incidents per Date')\n",
    "plt.xlabel('Date')\n",
    "plt.ylabel('Number of Theft Crime Incidents')\n",
    "None\n",
    "\n"
   ]
  },
  {
   "cell_type": "markdown",
   "metadata": {},
   "source": [
    "#### Enrich with cells indicies"
   ]
  },
  {
   "cell_type": "code",
   "execution_count": 318,
   "metadata": {},
   "outputs": [
    {
     "name": "stdout",
     "output_type": "stream",
     "text": [
      "35\n"
     ]
    }
   ],
   "source": [
    "crime_data = enrich_with_chicago_grid_1000(crimes_data)"
   ]
  },
  {
   "cell_type": "code",
   "execution_count": 309,
   "metadata": {},
   "outputs": [
    {
     "data": {
      "text/html": [
       "<div>\n",
       "<style scoped>\n",
       "    .dataframe tbody tr th:only-of-type {\n",
       "        vertical-align: middle;\n",
       "    }\n",
       "\n",
       "    .dataframe tbody tr th {\n",
       "        vertical-align: top;\n",
       "    }\n",
       "\n",
       "    .dataframe thead th {\n",
       "        text-align: right;\n",
       "    }\n",
       "</style>\n",
       "<table border=\"1\" class=\"dataframe\">\n",
       "  <thead>\n",
       "    <tr style=\"text-align: right;\">\n",
       "      <th></th>\n",
       "      <th>timestamp</th>\n",
       "      <th>latitude</th>\n",
       "      <th>longitude</th>\n",
       "      <th>latitude_index</th>\n",
       "      <th>longitude_index</th>\n",
       "      <th>cell_index</th>\n",
       "    </tr>\n",
       "  </thead>\n",
       "  <tbody>\n",
       "    <tr>\n",
       "      <th>1858</th>\n",
       "      <td>2018-02-04 11:00:00</td>\n",
       "      <td>41.769953</td>\n",
       "      <td>-87.628286</td>\n",
       "      <td>26</td>\n",
       "      <td>13</td>\n",
       "      <td>572</td>\n",
       "    </tr>\n",
       "    <tr>\n",
       "      <th>2901</th>\n",
       "      <td>2018-02-04 10:00:00</td>\n",
       "      <td>41.799876</td>\n",
       "      <td>-87.603929</td>\n",
       "      <td>28</td>\n",
       "      <td>16</td>\n",
       "      <td>700</td>\n",
       "    </tr>\n",
       "    <tr>\n",
       "      <th>3075</th>\n",
       "      <td>2018-02-04 09:30:00</td>\n",
       "      <td>41.933941</td>\n",
       "      <td>-87.645807</td>\n",
       "      <td>24</td>\n",
       "      <td>31</td>\n",
       "      <td>1326</td>\n",
       "    </tr>\n",
       "    <tr>\n",
       "      <th>3225</th>\n",
       "      <td>2018-02-04 10:00:00</td>\n",
       "      <td>41.793263</td>\n",
       "      <td>-87.642699</td>\n",
       "      <td>24</td>\n",
       "      <td>16</td>\n",
       "      <td>696</td>\n",
       "    </tr>\n",
       "    <tr>\n",
       "      <th>3269</th>\n",
       "      <td>2018-02-04 10:00:00</td>\n",
       "      <td>41.722578</td>\n",
       "      <td>-87.662707</td>\n",
       "      <td>23</td>\n",
       "      <td>8</td>\n",
       "      <td>359</td>\n",
       "    </tr>\n",
       "  </tbody>\n",
       "</table>\n",
       "</div>"
      ],
      "text/plain": [
       "               timestamp   latitude  longitude  latitude_index  \\\n",
       "1858 2018-02-04 11:00:00  41.769953 -87.628286              26   \n",
       "2901 2018-02-04 10:00:00  41.799876 -87.603929              28   \n",
       "3075 2018-02-04 09:30:00  41.933941 -87.645807              24   \n",
       "3225 2018-02-04 10:00:00  41.793263 -87.642699              24   \n",
       "3269 2018-02-04 10:00:00  41.722578 -87.662707              23   \n",
       "\n",
       "      longitude_index  cell_index  \n",
       "1858               13         572  \n",
       "2901               16         700  \n",
       "3075               31        1326  \n",
       "3225               16         696  \n",
       "3269                8         359  "
      ]
     },
     "execution_count": 309,
     "metadata": {},
     "output_type": "execute_result"
    }
   ],
   "source": [
    "crime_data.head()"
   ]
  },
  {
   "cell_type": "markdown",
   "metadata": {},
   "source": [
    "### Tweets"
   ]
  },
  {
   "cell_type": "markdown",
   "metadata": {},
   "source": [
    "#### Load raw tweets data"
   ]
  },
  {
   "cell_type": "code",
   "execution_count": 10,
   "metadata": {},
   "outputs": [
    {
     "data": {
      "application/vnd.jupyter.widget-view+json": {
       "model_id": "470b84ffac4c41e49a34640999c35a5d",
       "version_major": 2,
       "version_minor": 0
      },
      "text/html": [
       "<p>Failed to display Jupyter Widget of type <code>HBox</code>.</p>\n",
       "<p>\n",
       "  If you're reading this message in the Jupyter Notebook or JupyterLab Notebook, it may mean\n",
       "  that the widgets JavaScript is still loading. If this message persists, it\n",
       "  likely means that the widgets JavaScript library is either not installed or\n",
       "  not enabled. See the <a href=\"https://ipywidgets.readthedocs.io/en/stable/user_install.html\">Jupyter\n",
       "  Widgets Documentation</a> for setup instructions.\n",
       "</p>\n",
       "<p>\n",
       "  If you're reading this message in another frontend (for example, a static\n",
       "  rendering on GitHub or <a href=\"https://nbviewer.jupyter.org/\">NBViewer</a>),\n",
       "  it may mean that your frontend doesn't currently support widgets.\n",
       "</p>\n"
      ],
      "text/plain": [
       "HBox(children=(IntProgress(value=0, max=4), HTML(value='')))"
      ]
     },
     "metadata": {},
     "output_type": "display_data"
    },
    {
     "name": "stderr",
     "output_type": "stream",
     "text": [
      "/usr/local/lib/python3.6/site-packages/ipykernel_launcher.py:4: DtypeWarning: Columns (0,1,9,19,29,33) have mixed types. Specify dtype option on import or set low_memory=False.\n",
      "  after removing the cwd from sys.path.\n",
      "/usr/local/lib/python3.6/site-packages/ipykernel_launcher.py:4: DtypeWarning: Columns (0,1,2,3,4,5,6,7,9,10,11,14,19,20,21,24,29,30,31,32,33,34) have mixed types. Specify dtype option on import or set low_memory=False.\n",
      "  after removing the cwd from sys.path.\n",
      "/usr/local/lib/python3.6/site-packages/ipykernel_launcher.py:4: DtypeWarning: Columns (21) have mixed types. Specify dtype option on import or set low_memory=False.\n",
      "  after removing the cwd from sys.path.\n"
     ]
    }
   ],
   "source": [
    "#tweets_csv_dtype={''}\n",
    "\n",
    "tweets_data = pd.concat(\n",
    "    (pd.read_csv(path) for path in tqdm_notebook(glob.glob('./data/tweets-*.csv')))\n",
    ")"
   ]
  },
  {
   "cell_type": "markdown",
   "metadata": {},
   "source": [
    "#### Remove duplicated tweets due to collections problems"
   ]
  },
  {
   "cell_type": "code",
   "execution_count": 14,
   "metadata": {},
   "outputs": [],
   "source": [
    "tweets_data = tweets_data.drop_duplicates(subset=['id'])"
   ]
  },
  {
   "cell_type": "markdown",
   "metadata": {},
   "source": [
    "#### Remove tweets without geo-coordinates"
   ]
  },
  {
   "cell_type": "code",
   "execution_count": 15,
   "metadata": {},
   "outputs": [],
   "source": [
    "tweets_data = tweets_data.dropna(subset=['geo'])"
   ]
  },
  {
   "cell_type": "markdown",
   "metadata": {},
   "source": [
    "#### Extract Latitude & Longtitude"
   ]
  },
  {
   "cell_type": "code",
   "execution_count": 31,
   "metadata": {},
   "outputs": [],
   "source": [
    "import json\n",
    "\n",
    "def extract_tweets_latlng(tweet):\n",
    "    raw_coord_json = tweet['geo'].replace(\"'\", '\"')\n",
    "    coordinates = json.loads(raw_coord_json)['coordinates']\n",
    "    return pd.Series({'latitude' : coordinates[0],\n",
    "                      'longitude': coordinates[1]})\n",
    "\n",
    "tweets_data = pd.concat([tweets_data,\n",
    "                  tweets_data.apply(lambda tweet: extract_tweets_latlng(tweet), axis=1)],\n",
    "              axis=1)"
   ]
  },
  {
   "cell_type": "markdown",
   "metadata": {},
   "source": [
    "#### Select relavent colums"
   ]
  },
  {
   "cell_type": "code",
   "execution_count": 33,
   "metadata": {},
   "outputs": [],
   "source": [
    "tweets_data = tweets_data[['id', 'created_at', 'latitude', 'longitude', 'text']]          "
   ]
  },
  {
   "cell_type": "markdown",
   "metadata": {},
   "source": [
    "#### Filter tweets to be exactly inside chicago box"
   ]
  },
  {
   "cell_type": "code",
   "execution_count": 34,
   "metadata": {},
   "outputs": [],
   "source": [
    "tweets_data = filter_by_chicago_coord(tweets_data)"
   ]
  },
  {
   "cell_type": "markdown",
   "metadata": {},
   "source": [
    "#### Enrich with cells indicies"
   ]
  },
  {
   "cell_type": "code",
   "execution_count": 35,
   "metadata": {},
   "outputs": [],
   "source": [
    "tweets_data = enrich_with_chicago_grid_1000(tweets_data)"
   ]
  },
  {
   "cell_type": "code",
   "execution_count": 37,
   "metadata": {},
   "outputs": [
    {
     "data": {
      "text/plain": [
       "Index(['id', 'created_at', 'latitude', 'longitude', 'text', 'latitude_index',\n",
       "       'longitude_index', 'cell_index'],\n",
       "      dtype='object')"
      ]
     },
     "execution_count": 37,
     "metadata": {},
     "output_type": "execute_result"
    }
   ],
   "source": [
    "tweets_data"
   ]
  },
  {
   "cell_type": "markdown",
   "metadata": {},
   "source": [
    "## Data Preprocessing"
   ]
  },
  {
   "cell_type": "markdown",
   "metadata": {},
   "source": [
    "### Tokenizer"
   ]
  },
  {
   "cell_type": "code",
   "execution_count": 38,
   "metadata": {},
   "outputs": [],
   "source": [
    "from utils.twokenize3 import tokenizeRawTweetText"
   ]
  },
  {
   "cell_type": "code",
   "execution_count": 39,
   "metadata": {},
   "outputs": [],
   "source": [
    "tweets_data['tokens'] = tweets_data['text'].apply(tokenizeRawTweetText)"
   ]
  },
  {
   "cell_type": "markdown",
   "metadata": {},
   "source": [
    "### Sub-grouping by Geo-Location"
   ]
  },
  {
   "cell_type": "code",
   "execution_count": 68,
   "metadata": {},
   "outputs": [],
   "source": [
    "docs_groupby = tweets_data.groupby(('cell_index', 'latitude_index', 'longitude_index'))\n",
    "docs = docs_groupby['tokens'].apply(lambda r : list(r))\n",
    "docs = docs.sort_index()"
   ]
  },
  {
   "cell_type": "code",
   "execution_count": 79,
   "metadata": {},
   "outputs": [
    {
     "data": {
      "text/plain": [
       "cell_index  latitude_index  longitude_index\n",
       "7           7               0                    1\n",
       "16          16              0                   12\n",
       "21          21              0                   20\n",
       "25          25              0                    1\n",
       "27          27              0                    1\n",
       "28          28              0                    1\n",
       "32          32              0                    1\n",
       "46          11              1                    1\n",
       "48          13              1                    3\n",
       "50          15              1                    5\n",
       "55          20              1                    2\n",
       "56          21              1                   11\n",
       "57          22              1                    1\n",
       "58          23              1                   24\n",
       "63          28              1                    1\n",
       "66          31              1                    1\n",
       "67          32              1                    1\n",
       "79          9               2                    5\n",
       "80          10              2                    1\n",
       "81          11              2                   11\n",
       "85          15              2                    7\n",
       "86          16              2                   38\n",
       "87          17              2                   10\n",
       "88          18              2                    2\n",
       "91          21              2                    1\n",
       "93          23              2                    4\n",
       "94          24              2                    1\n",
       "96          26              2                    1\n",
       "102         32              2                   15\n",
       "116         11              3                    1\n",
       "                                              ... \n",
       "1404        4               40                  13\n",
       "1405        5               40                   1\n",
       "1408        8               40                  31\n",
       "1409        9               40                  36\n",
       "1411        11              40                   3\n",
       "1412        12              40                   6\n",
       "1413        13              40                   2\n",
       "1414        14              40                  25\n",
       "1415        15              40                   5\n",
       "1416        16              40                   6\n",
       "1417        17              40                   6\n",
       "1418        18              40                  10\n",
       "1419        19              40                  51\n",
       "1420        20              40                  16\n",
       "1421        21              40                   9\n",
       "1422        22              40                  37\n",
       "1423        23              40                 112\n",
       "1437        2               41                   3\n",
       "1438        3               41                   5\n",
       "1439        4               41                   3\n",
       "1440        5               41                   1\n",
       "1443        8               41                   1\n",
       "1446        11              41                  57\n",
       "1447        12              41                   6\n",
       "1448        13              41                   1\n",
       "1451        16              41                   2\n",
       "1454        19              41                   5\n",
       "1455        20              41                   5\n",
       "1456        21              41                   6\n",
       "1457        22              41                   6\n",
       "Name: tokens, Length: 767, dtype: int64"
      ]
     },
     "execution_count": 79,
     "metadata": {},
     "output_type": "execute_result"
    }
   ],
   "source": [
    "docs.apply(lambda r: len(r))\n",
    "np.zeros((N_))"
   ]
  },
  {
   "cell_type": "markdown",
   "metadata": {},
   "source": [
    "## Feature Extracts"
   ]
  },
  {
   "cell_type": "markdown",
   "metadata": {},
   "source": [
    "### KDE"
   ]
  },
  {
   "cell_type": "code",
   "execution_count": 1,
   "metadata": {},
   "outputs": [],
   "source": [
    "# A function that gets crime_data -> trained KDE object\n",
    "# take DataFrame[latitude, longtitude]\n",
    "\n",
    "def getKDEModel(train_df):\n",
    "    \"\"\" This function generates KDE model.\n",
    "    \n",
    "        Input:\n",
    "        train_df: train data frame with Latitude Logitude. 3 months prior data for the day of surveillance..\n",
    "        \n",
    "        Output:\n",
    "        KDE Model\n",
    "    \"\"\"\n",
    "    kde = KernelDensity(bandwidth=0.00017, metric='haversine',kernel='gaussian', algorithm='ball_tree')\n",
    "    kde.fit(train_df[['Latitude','Longitude']])\n",
    "    return kde"
   ]
  },
  {
   "cell_type": "markdown",
   "metadata": {},
   "source": [
    "### Sentiment Analysis"
   ]
  },
  {
   "cell_type": "markdown",
   "metadata": {},
   "source": [
    "### LDA"
   ]
  },
  {
   "cell_type": "code",
   "execution_count": 6,
   "metadata": {},
   "outputs": [
    {
     "name": "stdout",
     "output_type": "stream",
     "text": [
      "[[['this', 'is', 'not', 'a', 'tweet'], ['tweeter', 'soks', ':)'], ['I', 'do', 'not', 'want', 'to', 'party', ':/']], [['#creizi', 'yeee'], ['shooting', 'outside!']], [['where', 'am', 'i?'], ['this', 'is', 'not', 'a', 'drill,', 'please', 'do', 'NOT', 'drink', 'milk']]]\n"
     ]
    }
   ],
   "source": [
    "td = [[\"this is not a tweet\".split(), \"tweeter soks :)\".split(), \"I do not want to party :/\".split()],[\"#creizi yeee\".split(), \"shooting outside!\".split()],[\"where am i?\".split(), \"this is not a drill, please do NOT drink milk\".split()]]\n",
    "print(td)"
   ]
  },
  {
   "cell_type": "code",
   "execution_count": 102,
   "metadata": {},
   "outputs": [],
   "source": [
    "from sklearn.decomposition import LatentDirichletAllocation\n",
    "from sklearn.feature_extraction.text import CountVectorizer\n",
    "import itertools\n",
    "\n",
    "def coalesce(token):\n",
    "    new_tokens = []\n",
    "    for char in token:\n",
    "        if len(new_tokens) < 2 or char != new_tokens[-1] or char != new_tokens[-2]:\n",
    "            new_tokens.append(char)\n",
    "    return ''.join(new_tokens)\n",
    "\n",
    "def preprocess(text):\n",
    "    # text input is one string\n",
    "    # output is tokenized and preprocessed(as defined below) text\n",
    "    \n",
    "    # lowercase\n",
    "    # no hashtags or mentions\n",
    "    # any url converted to \"url\"\n",
    "    # replace multiple repeated chars with 2 of them. eg paaaarty -> paarty\n",
    "        \n",
    "    tokens = []\n",
    "    for token in text:\n",
    "        if token.startswith(\"@\") or token.startswith(\"#\"):\n",
    "            continue\n",
    "        elif token.startswith(\"https://\") or token.startswith(\"http://\"):\n",
    "            tokens.append(u\"url\")\n",
    "        else:\n",
    "            tokens.append(coalesce(token))\n",
    "            \n",
    "    return tokens\n",
    "\n",
    "def process_documents_lda(docs):\n",
    "    # assume a document is a list of tweets\n",
    "    # join tweets in a document by whitespace\n",
    "    #for d in docs:\n",
    "    #    print(list(itertools.chain.from_iterable(d)))\n",
    "    return [list(itertools.chain.from_iterable(d)) for d in docs]\n",
    "\n",
    "def print_top_words(model, feature_names, n_top_words):\n",
    "    for topic_idx, topic in enumerate(model.components_):\n",
    "        message = \"Topic #%d: \" % topic_idx\n",
    "        message += \" | \".join([feature_names[i]\n",
    "                             for i in topic.argsort()[:-n_top_words - 1:-1]])\n",
    "        print(message)\n",
    "    print()\n",
    "    \n",
    "def learn_lda(tweet_docs, preprocess=preprocess, tokenizer=lambda x:x, topic_amount=500):\n",
    "    \n",
    "    docs = process_documents_lda(tweet_docs)\n",
    "    \n",
    "    vectorizer = CountVectorizer(stop_words=\"english\", preprocessor=preprocess, tokenizer=tokenizer)\n",
    "\n",
    "    X = vectorizer.fit_transform(docs)\n",
    "\n",
    "    lda = LatentDirichletAllocation(n_components=topic_amount,\n",
    "                                    max_iter=10,\n",
    "                                    learning_method='online',\n",
    "                                    learning_offset=50.,\n",
    "                                    random_state=42,\n",
    "                                    verbose=1)\n",
    "\n",
    "    lda.fit(X)\n",
    "    \n",
    "    print_top_words(lda, vectorizer.get_feature_names(), 10)\n",
    "    \n",
    "    return lda"
   ]
  },
  {
   "cell_type": "code",
   "execution_count": 103,
   "metadata": {},
   "outputs": [
    {
     "name": "stdout",
     "output_type": "stream",
     "text": [
      "iteration: 1 of max_iter: 10\n",
      "iteration: 2 of max_iter: 10\n",
      "iteration: 3 of max_iter: 10\n",
      "iteration: 4 of max_iter: 10\n",
      "iteration: 5 of max_iter: 10\n",
      "iteration: 6 of max_iter: 10\n",
      "iteration: 7 of max_iter: 10\n",
      "iteration: 8 of max_iter: 10\n",
      "iteration: 9 of max_iter: 10\n",
      "iteration: 10 of max_iter: 10\n",
      "Topic #0: url | , | … | IL | : | . | Chicago | ! | - | ?\n",
      "Topic #1: runway | WOODLAWN | Bazarcito | saturday | enjoys | Skool | Melter | techniques | EARR | Install\n",
      "Topic #2: Greatest | 20797 | Endurance | 6705 | Conversation🗣 | 💇 | Sunset | Jams | Tinga | 11:47\n",
      "Topic #3: Analyst/Human | LATEST | 🚨FUCKING | COMING | Wes | disappointment | Made | Jump | Gains | Glinda\n",
      "Topic #4: Homewood-Flossmoor | Repair | DONUTS | Floyds | Coolin | 10634 | Chillen | Ernesto | Michael | nerf\n",
      "Topic #5: Pharmacology | grandpa | Slide | Whistler | Maria | result | chili | 👍🐟✌🏼 | Venkata | a.k.a.\n",
      "Topic #6: -> | wind | temperature | humidity | , | Oak | : | Lawn | pressure | clouds\n",
      "Topic #7: hash | ALTHOUGH | 🙌🏽💯🙌🏽 | wonton | Challengers | Sephora | TAKES | hotlips8 | accessory | Sine\n",
      "Topic #8: … | url | We're | THE | NECK | Management | RUNNING | opening | hacerme | SEE\n",
      "Topic #9: TapRoom | newsboy | Show | Toes | surely | Strawberry | cord | Supper | Downers | une\n",
      "Topic #10: favorita | Aurelios | Gamberi | dropped | party | marioszmigiel | Brown | Procter | way | 1.19\n",
      "Topic #11: backed | tag | Other | Hide | 45s | MEG | murky | 6909 | Risk- | Pixel\n",
      "Topic #12: url | Southwest | looking | buyer | … | Highway | I | , | We're | latest\n",
      "Topic #13: url | , | I | . | Washington | George | … | really | Chicago | Elementary\n",
      "Topic #14: 472 | campaign | 💯🔥💯🔥💯🔥💯 | Gorage | horniness | Pinedrops | studio😊😁😊 | Kuhichajulia | privilege | 8713\n",
      "Topic #15: Me✨ | 7137 | 1010 | DIVISION | JT | flavors | 😍👫🐶💍 | Rebellion | injected | groove\n",
      "Topic #16: seminar | Includes | Try | Jacob | Steins | Mentoring | bearish | Models | Casino | Cremant\n",
      "Topic #17: pancake | Employment | Skittles | InstaStory | Swissôtel | Rack | 💩💩🚽🚽 | Busy | Syd | scenes\n",
      "Topic #18: ustedes | strong | sky | COLD | cheap | ❄️❄️❄️ | hello | obsessed | 👌👌such | There’s\n",
      "Topic #19: Gracing | challenging | Underground | Imports | Lopi | pre-Bulls | tassels | Foggy | Mom | Tomten\n",
      "Topic #20: . | url | ( | … | ) | Alsip | C | Ave | The | ,…\n",
      "Topic #21: Racine | Bubbles | Stripes | madness | Testify | formal | &Industry | HO | sterling | baking\n",
      "Topic #22: 16:22 | oranges | Weak | LAUNDRY | Fedde | 9pm | Bridgeport | beanie | buyers | Nort\n",
      "Topic #23: Characterization | luxury | Puzzle | areas | digging | 10$ | 0223 | Church-Chicago | ingredients | Mouse\n",
      "Topic #24: url | … | , | IL | Target | hospital | I'm | Lawn | . | Happy\n",
      "Topic #25: elegantly | Como | CMT | parisianfloors | vamos | Crafted | strongly | 7104 | DVM | lease\n",
      "Topic #26: Sox | h | moments | suttonfister | readings | gin | exists | LIGHT | 😯 | Billy's\n",
      "Topic #27: sm | COVER | Stencil | Cinq | shoulder | belts | lespags | Manor | 🔫 | 1yr\n",
      "Topic #28: HERE | relish | country | cabinet | Pa | CAN | idols | logo | festivities🎄✨ | recipe\n",
      "Topic #29: third-generation | fearless | Burt | pawrents | OPERATIONS | plenty | Belvidere | named | Onesie | wander\n",
      "Topic #30: Whales | 40th | champagne | ANTWONE | Flowers | daughter’s | 🧥💄 | Drifting | 3.5 | Somehow\n",
      "Topic #31: amazing | 2017 | working | Al | just | url | Doogan | cousin | What | !\n",
      "Topic #32: Less | I'm | 4 | Food | url | Refuge | , | Station | throwback | FEESTYLE\n",
      "Topic #33: url | … | !! | IL | , | In | .. | The | Lo | Fuck\n",
      "Topic #34: FitzGerald's | lipgloss | Katies | Bordeaux | Nagle | Mac's | Alexander | Photo | shallow | sono\n",
      "Topic #35: orphanmusicnyc | Washington/Wabash | Haircolor | Ornament | forma | voltear | symbolic | Damen | Porzingis | North/Lincoln\n",
      "Topic #36: Sending | ️chocolate | salute | bleak | Térmica | D&D | Grateful | chitown | 12117 | soul\n",
      "Topic #37: job | bother | PITTSBURG | sista | lunar | 8mph | Forgot | Cincinnati | yeet | Busy\n",
      "Topic #38: love | . | 5060 | Our | url | reflection | SEO | crazy-fun-booze-filled | 1629 | Trick\n",
      "Topic #39: Rejoice | HIT | Evacuating | bistec | Centric | Ce | Siick | populist | Milton | Tomography\n",
      "Topic #40: chiefkeefsossa | instructor | thingamabob | museum | Instructional | 않았다 | Redeemed | frase | 6549 | weirdness\n",
      "Topic #41: RN- | 542’s! | Square✨ | Nest | 03750 | Treat✨💗 | 1040mb | floating | MoreyCurtis | tuff\n",
      "Topic #42: disappoints | Debauchery | Bhandari | pains | 205 | Lmbo | Initio | Hogan | possibility | reminded\n",
      "Topic #43: WON | lenses | chairs | beautiful | yes💍👩‍ | CDU | Princip | Glazed | 9m | mommy\n",
      "Topic #44: url | RIOS | BARBER | posted | photo | … | 1st | SALON | Hall | Just\n",
      "Topic #45: Batter | intricate | laughter | ESTAMOS | » | famm🙃 | Race | confusion | Otra | ALULU\n",
      "Topic #46: jmlschicago | Anytime | B's | Medal | Schneider | Wizard | si | sizing | Zipser | Englewood\n",
      "Topic #47: 📸✌🏽 | 6654 | Mont | HRIS | 💥💈 | M's | B1G | Exposition | tee | Representative/Account\n",
      "Topic #48: Treasury | Internal | competitive | eloquii | Rallada | fri | craving | dipped | bears | Rohina\n",
      "Topic #49: alexdzik | 6546 | 🤓🤔💨⛄️ | Still | Matilda | His | 🍃Happy | Download | 5236 | 🎄🎉\n",
      "Topic #50: 😛💕 | HIGH | stollen | 46% | EpIc | broadwayplayhouse | cloudscape | UChicago | mat | turn\n",
      "Topic #51: Hi | Oak | Snow | Lawn | Lo | Forecast | TONIGHT | IL | TODAY | :\n",
      "Topic #52: cocktailtherapy_ | -Me | baking | sponsorship | HAIL | Exterior | Isn't | Tomorrow’s… | farewell | didn\n",
      "Topic #53: esposa | Hibernating | genres | drivers | posture | promotion | pay | skills | 0630 | 💙💥\n",
      "Topic #54: . | url | ( | ) | … | bonito | Glazed | Pc | Sparrer- | 33457\n",
      "Topic #55: contemplate | loafers | Emerging | 👟⛰ | Consultants | ALL | Nomad | Na | 👀👀 | Feature\n",
      "Topic #56: … | , | url | Park | IL | 07:06 | . | cult | ) | Elementary\n",
      "Topic #57: : | Roseland | -> | wind | Dec | Lo | TONIGHT | , | IL | Forecast\n",
      "Topic #58: Cuttery | Meets | T.I. | ily | junto | GATES | Sunny | ripping | este | Assisting\n",
      "Topic #59: patrickfazionbc5 | female | Chicag | TAHO | insta_chicago | 8-12 | ..!!… | krgk1121 | 5467 | diligence\n",
      "Topic #60: Premier | earring | saints | Sparkling | 🔥🔥🙏🏼 | Lisa | 🍰🎂🎉🎊 | point | Touch | 1776\n",
      "Topic #61: url | … | ! | night | finish | strong | Spaceco | Catch | Advent | leader-to-be\n",
      "Topic #62: url | , | regular | grettie19 | visited | Thieving | 6a | Driver | reelprodigy | Aftermath\n",
      "Topic #63: sweltering | 7124 | Buena | COYOTE | ear | 😼 | /HR | datissmee | spot | Blick\n",
      "Topic #64: Oak | Augie | sm | cane | toothbrush | Trip | British | tappers | reference | H&M\n",
      "Topic #65: url | Ridge | , | I'm | Mall | IL | Bar | Vanilla | Chicago | speaker\n",
      "Topic #66: Paisley | D | drive | path | cult | andrewsaintandrew | safe | Philip | provides | involve\n",
      "Topic #67: neck | Puerto | pjs | fooled | Accident | SITTING | KC | Greatness | stencil | exams\n",
      "Topic #68: Former | bust | wishes | SF | Banker | times | deejaylms | Deric | Bebu | cleared\n",
      "Topic #69: Mastro's | Tes | 86th | 1604 | exqdesigns | Emily | wages | sort | Cheyne | Yaass\n",
      "Topic #70: fooled | Swim | Mr | Valmont | 19:49:24 | SUB-T | enthusiast | Edgewater | vídeo | Sushi-san\n",
      "Topic #71: 5508 | techno | teslamotors | tote | Fusion | Fairgrounds | dyed | WashingtonElementarySchool | Alhamdulillah | ECHOCARDIOGRAPHY\n",
      "Topic #72: arugula | ION | Usa | fave | JHS | fr | Base | 6524 | Thursday- | PSA\n",
      "Topic #73: url | Park | Calumet | , | Illinois | like | When | just | Cottage | saw\n",
      "Topic #74: stamp | Velvet | Chop | Heather | Cemetery | stroll | meals | Green | Puree | Replogle\n",
      "Topic #75: craziest | 1972 | ☹ | Wellstone | bilmek | single | However | Thinker | HACHACHACHAA | Famous\n",
      "Topic #76: Calgary | forever | 5th | cookies | LASIK | dickheads | DAM | . | cuteness | 20%\n",
      "Topic #77: Bourgiugnon | similarly | ان | TAYLOR | weighs | marketplace | Locs | 🤤😝💪🏽💯 | Şikago’dan | MOVIE\n",
      "Topic #78: Drop | Gam | African | Rs | PRE-SHOW | Katies | Jaillance | sticker | Sign-On | يجزاك\n",
      "Topic #79: , | photos | Placeres | hook | … | 7 | D9-3 | pooch | Presence | sideshowgallerychicago\n",
      "Topic #80: Lawn | Lloyd | Truck | thirsty | Mariano’s | magical | grandes | apfel | Shabu | BALL\n",
      "Topic #81: sage | littlest | boozy | scored | St-Feuillien | eu | bickin | Rad's | CAPTION | asked\n",
      "Topic #82: -my | pasión | Shoes | Windu | Plate | wizard | OWE | clown | sundaydinnerchi | Deployment\n",
      "Topic #83: Mastro's | 💙👶🏾🙏🏾 | diligence | Space | DELA | 😏😏😘💨💨💋 | $7500 | Flames | Somm | Shakespear\n",
      "Topic #84: chase | specialty | Squired | idk | Loveless[K | tight | CHALLENGE/FREESTYLE | TNT | irrelevants | ‼️Only\n",
      "Topic #85: copywritten | Thursday | Presidents | victory | Believed | Hipster | 1/11/18 | KalikiMacaroons | 📣🚨 | 🎅🏼🎄\n",
      "Topic #86: url | Chicago | , | IL | Tavern | East | Side | man | I | I'm\n",
      "Topic #87: Gracias | clarabóia | ON | test | bulls | Heritage | guide | 8 | wines | Big\n",
      "Topic #88: IL | url | , | ! | work | Click | : | Want | ? | retrograde\n",
      "Topic #89: extrañar | Monday | Molly’s | decadent | in-laws | CARE | Fadó | Velvet | palette | beauties\n",
      "Topic #90: Daley | crushes | male | Empty | Interim | 352/365 | 815 | worry | mans | exhale\n",
      "Topic #91: Valley | College | Moraine | Community | url | Game | heavy | 💔 | This | heart\n",
      "Topic #92: Cord | refine | 2858 | THEE | Characterization | 03908 | paradise | Lowkey | Skirted | deeply\n",
      "Topic #93: shower | meetings | Bornday | creamed | revision | bedside | Icon | silhouette | GROWN | WGN’s\n",
      "Topic #94: Christmastime | twice | battery | sock | Newest | fighting | 👊 | Friends | biz | Soccer\n",
      "Topic #95: sweetie | Rico | 💯Fr | 🎉New | A11 | Monument | Pumpkins | =( | quietly | Yankee\n",
      "Topic #96: , | … | url | Moraine | Community | reception | chest | Valley | workout | Center\n",
      "Topic #97: custom | eloquii | coneill9397 | Winnie | Sine | elliptical | BETCHA | biggest | sterling | Horween\n",
      "Topic #98: UI | satellites | Buckles | regal | Nest | 場所 | $38 | Gamberi | 🤷🏽‍♂️🤷🏽‍♂️🤣🤣 | Happened\n",
      "Topic #99: CMW | Perspective | business | 42.545 | fresh | roe | Mushrooms | Genuine | Wait | Always\n",
      "Topic #100: , | url | IL | View | : | ? | … | opening | Want | work\n",
      "Topic #101: MUM | Bill | al | Imperial | emociones | CRC | 💪🏻👍🏼👊🏼🤘🏼 | Lab | interview | Deloitte's\n",
      "Topic #102: Text | MK | lower | 🍬 | Yoga | Clever | Autobarn | Mila | conclusione | Photoshop\n",
      "Topic #103: Saloon | Salerno's | 81% | Ayala | Wit | Lonesome | BEEF | ikeausa | preparations | Queer\n",
      "Topic #104: HEARQCOUTERZ | Qué | reggae | surprise | WELLNESS | tripp | leftovers | op | FLEX4EVER | ND\n",
      "Topic #105: Jesse | Agility | 5250 | 12143 | Vibing | Redlove | 👌🏾👁🎇🙌🏾 | 1242 | winter | cowls\n",
      "Topic #106: -> | , | wind | treated | Lawn | humidity | Smoked | Chicks | : | starving\n",
      "Topic #107: Listen | Gym | 50070 | chicagocta | discussing | Proof | Delane | Cheers☕️☕️ | Rican's… | thrifty\n",
      "Topic #108: Calamari | Deloitte's | Nuffin | legomaster522 | mirror | Lennon | Pockets | gesture | table | skin_savvy_jess\n",
      "Topic #109: url | … | ! | . | I | My | 😋😍 | Spoiler | , | labor\n",
      "Topic #110: Snow | Beluga | improve | Dec | flagship | Down | Skokie | Roseland | TSS | Proofing\n",
      "Topic #111: Yung | ️My | limited | you’ve… | report | Franchise | ustedes | jingle | Chechu | errdz75\n",
      "Topic #112: 4,500 | Delish | 11:30 | jumped | recliner | Chicago | Records | 100k | Threat | Jets\n",
      "Topic #113: -1°F | policy | lights | Honda | Wilcox | 27°F | Barden | 5104 | Readying | HNA\n",
      "Topic #114: IL | url | , | : | I'm | ! | Evergreen | ? | … | This\n",
      "Topic #115: Feasted | Cuddling | canceling | Worker- | spirited | gravity | El | único | Aruba | EVERY\n",
      "Topic #116: url | … | . | , | I | ! | It | Love | Keep | Moving\n",
      "Topic #117: Recently | Louisi | destino🐻 | 59082 | vests | marine | sleeves | Santo | CEO | 1️⃣4️⃣TH\n",
      "Topic #118: … | url | left | did | Who | sage | ? | 25yrs | Scarlet | Thank\n",
      "Topic #119: Benrose | 한 | Faltan | Video | turquoise | pill | 💪🔊🆙🆙 | drinking | Ones | Stay\n",
      "Topic #120: Dec | Forecast | TONIGHT | : | Park | Snow | Hi | IL | TODAY | Lo\n",
      "Topic #121: Far | Side | Southeast | Pullman | Southwest | Ebony | Styles | Easy | , | vote\n",
      "Topic #122: climbin | Angelina | Edgewater | rhettandlink | Crazy | Spongebob | DFH | 🎼😍 | elise_mua | inviting\n",
      "Topic #123: sandwiches | ballot | revenge | D | 4219 | haven't | Kumas | Yomz | HBO | EBONY\n",
      "Topic #124: client😍 | Cola | Lux | far🤔🤔🇲🇽🇵🇷👑 | fiancé💞 | 🍴🍷🍝 | Smashed | video💘💘 | Mafia | missmelissa1790\n",
      "Topic #125: push-ups | Pkwy | Salvaged | الذي | swanky | marinate | fitzgerald1208 | LOCATION | Den | Lip\n",
      "Topic #126: Ok | Snowed | 1036mb | tastiest | birds | 2925 | forever21 | Angeles | Juicy | Sustainable\n",
      "Topic #127: 🌰 | 🎶He | count | Fyah | ventarrones | AT&T | 👏🏽👏🏽👏🏽 | Deric | Acoustic | Forgot\n",
      "Topic #128: OTG | Nae | latest | ✌🏼💙Age | dues | harvest | CANDYCRUSH | provides | 🍾🍾 | Studios\n",
      "Topic #129: 2102 | 🌲🎅 | atto | association | Orchestra | -4758 | Chuck’s | possessions | odd | Erykah\n",
      "Topic #130: Olympics | Who | deal | Dapper | sort | hides | supreme | 🎄🚂 | bouncechicago | HARMAN\n",
      "Topic #131: Q2 | ion | Daystar | farewell | Culinary | Peanut | strength | ✌🏼 | Rosemont/Chicago | 👀👀\n",
      "Topic #132: Shoppe | Nations | 4hrs | togetherraa | 🎉🎆🎑 | Hooray | Cinnamon | MAN | Bonded | air\n",
      "Topic #133: Excel | Southwest | Academy | Marquette | period | url | Honors | , | concludes | excel_southwest_\n",
      "Topic #134: IL | , | url | ? | work | Want | : | Click | Parts | …\n",
      "Topic #135: url | technicsltd | launched | Eataly | rappers | marcaron | Just | theatre | Pinya | Bistrot\n",
      "Topic #136: url | … | Chicago | State | Saba | : | 6pm | Kwanzaa | Sign | !\n",
      "Topic #137: url | Nails | A | day | . | getting | LOVE | bikes | Palos | We\n",
      "Topic #138: blood | folding | Optimization | equalisation | ow | Holiday🎄 | lunes | diphthong | 70% | salons\n",
      "Topic #139: fully | Irie | Altbier | charity | helping | elf | President | Shopping | characters | Traveled\n",
      "Topic #140: Mart | Earrings | Vanhooren’s | Dethrone | Concert | Creo | gem | Lamps | Meyer | pumasportstyle\n",
      "Topic #141: D | Paws | motivation | define | Sometime | diventare | Extreme | Weezy | 🎥 | Squired\n",
      "Topic #142: concentrated | 🤡Clown | lagi | ea | WHAT'S | CANT | thisjob | bathroom | 🌞 | folded\n",
      "Topic #143: url | , | IL | : | ? | work | - | Want | latest | fit\n",
      "Topic #144: url | IL | , | Want | latest | : | … | opening | ? | work\n",
      "Topic #145: THE | EVE | OF | SATURDAY | DECEMBER | PARTY | BAR | FREE | LADIES | DIAMONDS\n",
      "Topic #146: Lawn | sunday | Shoe | oldies | WCIU-TV | nippy | 109/240# | topbop | headlines | jmlschicago\n",
      "Topic #147: url | : | ! | latest | See | … | - | Click | , | Join\n",
      "Topic #148: happiest | Delores | Buckeye | Laconcha | T-Rex | 1033mb | Starts | Relia | Desktop | Gringa\n",
      "Topic #149: Code | news | Vin | Villita | Actors | roommate | Bitcoin | Y'all | candles | Mikko\n",
      "Topic #150: ☆☆ | Miguel | pillow✨ | goodnight | queen | Downers | más | Remoulade | seniors | 🌤\n",
      "Topic #151: IL | : | url | , | ! | We're | - | latest | Lobster | Can\n",
      "Topic #152: loud | NIGHTLIFE | ladies | winter-y | Joao | Mermaid | 6818 | Psychiatric | metabolic | OMG\n",
      "Topic #153: 96.127.158.237 | Ferrari | gracious | Daylight | sweatshirt | Tanto | RIVER | Episode | trouble | 0.50\n",
      "Topic #154: Maria | 🤪😂😎☃️❄️ | snazzy | YOGA | recognize | DEC | divorced | bonito | venga | Tapas\n",
      "Topic #155: url | , | IL | : | … | ? | ! | recommend | latest | This\n",
      "Topic #156: proposed | Senior | Bitches | Duke | Newly | Kavon | floral-print | 1028mb | fair | ship\n",
      "Topic #157: Whirlaway | redzovicjiujitsu | 🕺🕶🔥🔥🎼🎼 | Parque | base | نفسي، | Ono | IS | pretend | Malibu\n",
      "Topic #158: Pareciera | Tutorial💫 | aren't | Security | Faceback | partridge | CHIRP | panicking | columnist | Brought\n",
      "Topic #159: pudding | warm💖💖😍😍 | goods | yuh | Hunters | SHIFT | lounge | trivia | Ace | Puterbaugh\n",
      "Topic #160: Migdalia's | historic | Observation | freshman | lululemonchi | Deco | soak | Sabroson | LA-T-LY | nutella\n",
      "Topic #161: clearly | duke | neocutis | lane | 9PM | dangerously | isn | Zepeda | small | explorin\n",
      "Topic #162: . | covers | url | area | Temple | The | posted | Jesus | Just | He\n",
      "Topic #163: pestañas | tots | finishing | Booz | 👨🏻‍🎤 | bundles | Never | ROCK | 👍🏻🏀 | $35-\n",
      "Topic #164: enabled | Theaters | grooming | sneak | saturdaze | …. | burgundy | columnist | quicker | decoration\n",
      "Topic #165: express | comedianrudyruiz | Artists | 🙏🏼 | Grunge | Chalene | luxurious | Iron | GILES | taken\n",
      "Topic #166: Muay | 😩 | Ginger | flipazoo | 5IVE | Gentleman | gelato | 💃🏿 | measures | stairs\n",
      "Topic #167: Avenue | North | West | Higgins | Mont | Clare | Normandy | Neva | Nottingham | Nordica\n",
      "Topic #168: captioning | 9:30 | client😍 | extreme | confident | SMILE | LITE | Pie | animal | paws\n",
      "Topic #169: Ask | smartphone’s | Sheffield's | provided | SHOTS🥃 | genders | balloon | oblique | spotted | tasting\n",
      "Topic #170: running | 😁❄️ | Tag | Jumpman | 👈🏽like | NSync | Marzen | FRFR | cause | Good\n",
      "Topic #171: url | … | . | HIIT | mile | bad😜😂😂 | insane | Park | today | Dirty\n",
      "Topic #172: url | … | TONIGHT | Park | Snow | adulthood | Fucking | Theater | : | iamshantarenee\n",
      "Topic #173: wand | Joell | Winterland | Ruiz | Meatheads | Inncrediblee | ᴀ | laurimarkkanen | Cenando | discovering\n",
      "Topic #174: ate | Twisted | y’all | mozzarella | Sabádo | 🌬tap | noname | 🏃🏻‍♂️ | colleague | Hard\n",
      "Topic #175: 233 | emilioeatclean | Wine | 3643 | popsbeef | Niketown | levando | 2:19 | gentlemanjoel | itis\n",
      "Topic #176: 💁🏻‍♀️ | time🚫 | Opening | sense | 🏋🏽‍♀️ | shoes | 8pm | allergies | Monday | pie\n",
      "Topic #177: Stiff-Arms | Portia | Sensex | Jr | monogrammed | 12° | Rest | P3 | Seany | Sell\n",
      "Topic #178: Vida | OUAW | 708.240.4323 | Raspberry | Claremont | 6440 | girlie | travel | picks | RN-MNN\n",
      "Topic #179: url | , | Evergreen | LOVE | . | IL | … | 94/206# | Dropping | Jen\n",
      "Topic #180: 5312 | signature | Flyer | ✌🏼💙It’s | approach | Speciality | Queen | Bdc | flute | Food\n",
      "Topic #181: Pedophilia | af1s | olive | Vegetable | tomorrow | St | lamb | pennylanestudios | Supreme | Jewelry\n",
      "Topic #182: Summer☀️ | preferred | LaSalle/Van | squash | Steve’s | WORK | llevó | putting | Drake | display\n",
      "Topic #183: -> | wind | : | , | 😘🍰 | Sighting | Raisu | Phil | Quedarme | loyal\n",
      "Topic #184: babing | entertainment | Dah | DRINKS✨⭐️ | THICK | Cuddling | hace😔 | LINCOLN | ée | TUESDAYS\n",
      "Topic #185: track | couresty | Vichy | CELEBRATION | swiss | Parisian | killing | goggle | 😴😴🤔🤔🤓🤓 | porscheclub\n",
      "Topic #186: , | url | Chicago | Far | Southeast | … | Illinois | Side | . | distance\n",
      "Topic #187: Flier | Choreo | Orin | Cell | Gift | Scofflaw | Hopleaf | painted(SIZE | confirma | sweetie\n",
      "Topic #188: amore | Future | goo | yell | course | ClubRed | apope375 | illegally | leaning | Florence\n",
      "Topic #189: gramaphonerecords | newsflash | Spilt | National | decorated | 1128S | Hurricane | collapse | licensing | Arya\n",
      "Topic #190: Luther | Still | Hafidzun | desk | Cruz | 35 | covered | pains | 7pm | accepted\n",
      "Topic #191: You’d | dehumanised | Detrás | scores | 2423 | aisle | oo | AKA | praises | 12°F\n",
      "Topic #192: w/limón | Whistler | 5324 | Winners | SCORE | Talking | Let`s | Complex | Grateful | H&PS\n",
      "Topic #193: . | url | ) | ,… | halftime | ( | … | DFH | Bottled | aww\n",
      "Topic #194: Wigsplitter | 5431 | sleet | caught | dr. | kon | Lucky | Richarsodian | Graduate | chance\n",
      "Topic #195: url | , | IL | work | : | town | weeknight | … | .. | ?\n",
      "Topic #196: 02214 | Coca | text|Glock | Juntos | zahn | 1/1 | compete | vas | 된다 | majesty\n",
      "Topic #197: url | … | . | My | I | With | ! | , | It | All\n",
      "Topic #198: قريب | Smoov | smoothie | stocked | LET’S | Ponche | to-do | captain | ️⛸🍻 | 🎶I'm\n",
      "Topic #199: chimney | salons | sprinkles | 🍳 | 🤣💅🏾 | Trappe | chocolate | XBT | 💙💥 | Carla\n",
      "Topic #200: humidity | -> | clouds | angel | , | 🌎🌍🌏🌙⭐️✨💫 | Rentals | seasons | temperature | Hopsmith\n",
      "Topic #201: Kuhichajulia | spell | playing | useful | Kills | DISLOYAL | Audit- | bat | 311 | yea\n",
      "Topic #202: url | Hickory | , | Hills | IL | I'm | Jewel-Osco | Inc | Deals | gifts\n",
      "Topic #203: 1121S | 💪🏾🙌🏾😅 | vinaigrette | Shibam | I’M | 💥💥FLASH | MILE | ️🍷 | SON/SUN | OBSERVER\n",
      "Topic #204: 😁😉😎💯🔥 | sample | sappy | 12902 | 377 | RIZE | Night | DID | 5505 | weak\n",
      "Topic #205: Absof**inglutely | Vanguard | bebecitos | BUILDING | michelada | 5215 | tags | Interlude | films | cranked\n",
      "Topic #206: Tea | favorite | + | snack | Rad's | A | 🎊🎁🎉 | Kappa | neighborhood | nominated\n",
      "Topic #207: casually | bffs | Farrah | persona | ama | LYS | 56% | debate | Nations | ArtShow\n",
      "Topic #208: Speech | 🕴🕴 | activity | chicagosight | Therapist | farming | Owner | decided | nodj | controlling\n",
      "Topic #209: develop | epic | mezcla | $60 | esposa | AEM | Nope | IllMikeNumbr79 | foundation | violence\n",
      "Topic #210: 49127 | delicious | Crock-Pot | dude | Milton | STICKY | jrmeyers13 | Zelda | Chimay | Trump's\n",
      "Topic #211: !!.. | develop | FEEL | 81% | Mutual | sport | WAVELAND | 4:30 | 🍦 | TWO\n",
      "Topic #212: I’ve… | Lowest | WORSHIP | Terminators | inside | Climbing | curled | Mid-Century | ALREADY | grilled\n",
      "Topic #213: Chairs | 💓🏙 | Salita | livin | Sing | tall | Turning | Room2 | camera | 12TH\n",
      "Topic #214: Smell | pinching | GA | 7052 | RCOM’s | 311 | Foster's | ochre | digs | NAKED\n",
      "Topic #215: intense | blockage | olvido | mining | championship | Visiting | Buds | Come | 65 | Rainbow\n",
      "Topic #216: 150 | in-laws | Rhyme | Elphaba | Embraer | menus | ¯\\_ | lack | DAY | tannic\n",
      "Topic #217: Desde | 🤙🏻 | 42°F | Tom | M9 | 3am-9am | Reva | Mulled | PITTSBURG | PRN/Registry\n",
      "Topic #218: The | new | looks | Fitness | like | Planet | url | Chicago | isn | Cesar's\n",
      "Topic #219: BURBANK | Unconditional | PUT | 😍✌ | Afriware | Story | nlpybleague | simple | partynoire | Machine\n",
      "Topic #220: 2pm | flow | Signal | Half | Morrison | Killing | microwave | ??! | shoe | Presence\n",
      "Topic #221: commence | Glass | spot-on | V103 | Adding | taxi | CVS | Potatoes | Cucina | 4am\n",
      "Topic #222: Ave | EB/WB | hydrant | closed | 115th | Both | Road | broken | St | Princeton\n",
      "Topic #223: 🤷🏼‍♂️😄 | Drinks | Walmart | Zombie’s | Thorndale | Brindille | ⛅️ | schools | ❄👀❄ | B737\n",
      "Topic #224: secrecy | Buttercream | Streets | elevate | Announcement | 👋🏼 | Action | 😄 | Zuppa | ruled\n",
      "Topic #225: Send | Storms | 🙏🏽🙏🏽🙏🏽 | grew | Glory | ♑️🤝👑👼🏾 | Oui | maris_elena | Having | Pooch\n",
      "Topic #226: refreshed | Ariba | Squats | Burr | Workshop | lad_of_leisure | Faithworld | Baker | TMI🍷 | asunday_kindoflove\n",
      "Topic #227: 🎤🎶 | 🏙L | non | notch | Hollywood | KIT | BUREN | que4radio | Medication | theatre\n",
      "Topic #228: Tennie | SRC-HR | 8pm-1am | bilingual | muscle | thrifty | errdz75 | 🥘👨🏽‍🍳🐂 | you’re | bby\n",
      "Topic #229: -> | , | humidity | Serrano | Annual-ish | Rest | 5:00 | Platfor | Houses | 03152\n",
      "Topic #230: Ps | Sacral | skincare | Atkinson | Years | -131618 | privilege | thursday | bored | fever\n",
      "Topic #231: : | Snow | Dec | Hi | Forecast | Park | IL | TODAY | TONIGHT | Calumet\n",
      "Topic #232: Eddy | 🎄🎅🏼🎅🏼🤶🏼🌮 | Hottest | Gal | 🐻 | Cerrando | Pre | 📺🌤❄️💦 | Andorra | Developer/SQL\n",
      "Topic #233: 🍞 | finishing | Powell | BE | popsbeef | heavies | 💩🚽💦💦🤣🤣 | Cologne | Brownstone | WICKED\n",
      "Topic #234: iron | 75 | Grindtime/School | where’s | Ch | Villanova | CITIES | asana | Sunset | Peoples\n",
      "Topic #235: url | crudo | . | 😏👅 | … | Stove | yin | cans | service | -\n",
      "Topic #236: Merrionette | Park | url | light | PEEP | IL | Checking | 12.25.17 | Drinking | feet\n",
      "Topic #237: -> | , | wind | : | humidity | Oak | Lawn | weather | temperature | clouds\n",
      "Topic #238: XXL | Letterbomb | 10366 | SUNDAY | Arch | salon😁💁🏻‍♀️ | Clare | glorious | Debauchery | questo\n",
      "Topic #239: HARMAN | Zock | Chalene | ❄️🎄🍷🏙 | Diversity | LondonHouse | J's! | post-apocalyptic | Congrats | Milestone\n",
      "Topic #240: url | ! | , | (@ | IN | And | … | Peter | Parish | Paul\n",
      "Topic #241: 🇩🇴 | 🚨D | Laura | Brooke’s🖤🐝🖤 | accumulated | we’re | fool | 12a | Points | Christin\n",
      "Topic #242: Hors | soup😏 | Panera | Completed | situation | Michigan | Weight | blows | ᴄᴏsᴛ | 10957\n",
      "Topic #243: Dec | Hi | Lo | Lawn | Oak | Forecast | Partly | : | TONIGHT | IL\n",
      "Topic #244: MEE | riveting | aye | Coupes | Rollicking | armónica | Den | activity | transistor | brand-new\n",
      "Topic #245: Deceivers | Organizing | thinks | 💘🏙 | Dem | Criek | 1776 | HOTEL | Peggy | Doghouse\n",
      "Topic #246: Tole | nvrlndboy | Rolling | eddiebauer | Consultant | icy | detrás | thrillers | faith | 🎨😋\n",
      "Topic #247: Lo | : | TONIGHT | Forecast | IL | Hi | Dec | Snow | Morgan | AM\n",
      "Topic #248: url | IL | : | , | ! | . | latest | Street | ? | State\n",
      "Topic #249: music | kidnap | Illuminated | gira | colaboración | 2nd/3rd | 🦈 | Every | Law | reducing\n",
      "Topic #250: Alan | Sandwich | ARE | BICEPS | BIRTHDAY😃😄 | Rashad’s | Russian | 🎥 | About | Assistant/Office\n",
      "Topic #251: Metro((where | WOW | 👟⛰ | ale | Div | simply | Thorn | SAT | rose | Ora\n",
      "Topic #252: url | , | Chicago | Ridge | IL | I'm | & | … | Grill | look\n",
      "Topic #253: LET'S | emails | dejo | Bench | PHP | youre | HAD | mother's | dang | Research\n",
      "Topic #254: classic | dress | Disney | sums | kiddin'! | Editor | spell | R.I.P. | BARRELED | How's\n",
      "Topic #255: 🎲🍷🧀 | 22:29:15 | Thieving | IP | internet | Family | Dialysis | ✋🏽 | idols | zero\n",
      "Topic #256: girls | Better | BACK | hrs/wk | bitcoin | Pritzker | blindly | rejuvenate | king_loner_ | Developer/SQL\n",
      "Topic #257: 07:14 | Balthus | ✊😂 | Pre-Check | Canalport | plane | Redlove | veggie | Lunar | donated\n",
      "Topic #258: Michael | I'm | Oak | IL | Lawn | , | url | Chez | 48 | Kari\n",
      "Topic #259: -> | temperature | : | , | Oak | wind | Lawn | humidity | cooperative | Kong\n",
      "Topic #260: 💓👑 | guidance | OMGG | Fridaycommute | I'm | clip | unlearn | 45s | 82% | easebeats\n",
      "Topic #261: allí | Git | Everyone | 5442 | Pershing | Aayog | Magny | Aide | ᴍᴇ | Saints/patriots\n",
      "Topic #262: Russia | Tournament | frostedandfried | 82% | Prohibition | coronita | tot | GARDEN | nokotv | Extreme\n",
      "Topic #263: t | Rebel | VOTE | freight | mama💞 | places | LondonHouse | temsilcisi | sequels | llevó\n",
      "Topic #264: 7548 | Int | 2.1 | Scenes | YALL | quickie | cuál | 49127 | School•Boy | E-Trou\n",
      "Topic #265: 737 | Charlie | 1038mb | -10° | 7 | Mitchell | JUMANJI | Economics | Hawk | которую\n",
      "Topic #266: Help | Generalist | full-time | Meatheads | 🤦🏻‍♀️ | estuvimos | Capital | Elite | Cartier’s | ❄️Rooftopping\n",
      "Topic #267: 🎉🎂🎈🎁🎊 | people | showcase | parenthood | Soldier | ée | ⚫️🐆 | Cuvée | LATEST | Arocha\n",
      "Topic #268: Tucks | PLUMBER | requesting | til | Fever | 1879 | Cristal | Nagle | bobs | Holm\n",
      "Topic #269: VIDA | Blackwelder | greasy | drunkk | Bih | Steakbar | Crocifisso | fantastic | dabarkads | árbol\n",
      "Topic #270: Financials | 29°F | accepted | Funk | Fall/Winter | climbin | Ańo | mirrorball | Windchill | dedicating\n",
      "Topic #271: dentists | Glad | Fisher | majority | scrubs | bean | BEOGRAD | encourages | natalieyco | wit'cho\n",
      "Topic #272: Ltd | Drop | bleeding | provide | 14 | babies | Yelp | YALL | AND | $654\n",
      "Topic #273: 5411 | 🎅🏽 | sponsors | bald | Maz | MARRIED | details | dr | debut | 💪🔥🇸🇻\n",
      "Topic #274: Johnson | eyes👀 | Foxy | fearlessly | RedBoNe🚫 | Really | ALWAYS | Arte | Control- | appreciating\n",
      "Topic #275: url | , | : | IL | ? | - | This | great | ! | Can\n",
      "Topic #276: 773.789.8096 | We’ve… | Luva | 👍🏻😍😍🍹🇲🇽🍸🍹🇲🇽🍸🍹🇲🇽 | Gordan | Options | murder | passage | Innovation | Valuation\n",
      "Topic #277: Mfg | meeting | Cellular | mins | Reconnected | brown | Para | Bourbon | Hawks | Alexandra\n",
      "Topic #278: 1033mb | drinkity | Snuck | SWIPE | ladylikeindiana | Erykah | belief | spruce | Tourmalines | Accomplishments\n",
      "Topic #279: peek | Chicago|the | trainer | hair | Persian | bday | trust | HOLIDAYS | Talib | Mayor\n",
      "Topic #280: url | Oakley | Sunny | ! | Daystar | ️🎄🇺🇸 | Salesperson | 16th | sofá | remembered\n",
      "Topic #281: ✌️✌️✌️ | increasing | Lee | jaw-dropping | lung | Tub | fields | Scene | Skirted | routines\n",
      "Topic #282: 🐐🚣‍♀️ | Durkin's | stuffed | Than | Pedicure | theta | raspberry | Birthday💕 | married | phunk_one\n",
      "Topic #283: ??!! | 68% | November | move-in | ️😘💋 | Rajinder | Kumar | 😂😂🤦🏾‍♀️ | snowy | 0°F\n",
      "Topic #284: Hagamos | loaded | 8:29 | SNOW | { | location | version | dining | Highly | Plum\n",
      "Topic #285: constant | freshest | 364/365 | Natchez | Mumbai | Y’ALL | gesture | Boys | COAST-STATE | Otherworld\n",
      "Topic #286: Learned | linda | Assistant/Busser | 😙☠ | BI/DW | scotch | 5060 | Uribe | Gives | WAS\n",
      "Topic #287: 6814 | football | ‼️WE’RE | Tix | function | INCORRECT | management | Queen | guidance | Processor\n",
      "Topic #288: colored | Sugar | nog | llegas | duty | Hoping | Gresham | 🕴🕴 | DOIN | 6811\n",
      "Topic #289: url | Chicago | FUN | ! | FUNcation | , | life | I | IL | ?\n",
      "Topic #290: witch | 🤗😍😇 | Zetina | Skirted | away | tonight | slowest | Nickel | RAGE | Step\n",
      "Topic #291: Raymond's | WHATEVER | Hamilton | uhh | 6603 | Infosys | Phonophobia | 🙌🏻🌲🎁 | DAN | ☕\n",
      "Topic #292: url | … | , | . | Park | IL | LOVE | Evergreen | love | work\n",
      "Topic #293: SP | DINING | Cooperative | Gyne | 🐥💚🎊🥂 | fit | snuggling | still🤷🏾‍♀️ | rounded | Strong\n",
      "Topic #294: Chesterfield | bulls | Novogodisnja | Evening | Langham | debauchery | vida | Unlimited | you'll | E*TRADE\n",
      "Topic #295: Adams | Neal | nettie | Sidetrack | vejo | Star | ALSO | Birthmark | LOAF | Inaugural\n",
      "Topic #296: Leticia | outdoor | commence | 🎞📸🎥💻🤪 | discussing | lows | photoshoots | Dua | Diversey | Dukes\n",
      "Topic #297: url | … | The | , | IL | I'm | . | Day | Party | I’ll\n",
      "Topic #298: 🍃Happy | destress | na | Pantina | leaning | tba | 🌃 | 1015mb | AutoZone | Zigzag\n",
      "Topic #299: Ketel | EMBASSY | Drone | underpaid | falafel | Princeton | 7A | Bonito | Legit | muscle\n",
      "Topic #300: Building | 1977 | Feat | 10-7 | worthless | Faye | aint | Spanish | great | Piña\n",
      "Topic #301: destroying | 8°F | believe | nbcchicago | Calm | bee | Oxbow | wilhelminamodels | brunching | Edward\n",
      "Topic #302: , | url | IL | : | ? | work | great | We're | Click | Supervisor\n",
      "Topic #303: Breffus | photo's | Registry | student | 80 | one’s | heaven | Rise | Appellation | Feature\n",
      "Topic #304: S3 | magical | Mansion | caffeine- | XXI | Banfield | 400+ | decarloguntrum | 😸 | Brilliance\n",
      "Topic #305: MOVIN | receiving | ón | ‼️fashionkillarich | HERBO | bid | temperaturas | Nashville | Gurls | hangout\n",
      "Topic #306: ice | ¡Buenísimo | Upholstered | featured | compromised | Daystar | Farrah | Himalayan | Di | Pyramid\n",
      "Topic #307: today-almost | Shazam | sadness | UX/UI | culture | Send | LMC | PLAYA | 6421 | Supervisor\n",
      "Topic #308: panel | Figures | joyous | 1.23.18 | LITE | Muahh | pretending | IL(Marquette | Hanger/Inspector | Occupational\n",
      "Topic #309: 0°F | Brownie | ROCK | reasonably | engage | année | Stir | Sidetrack | Procrastinators | SROP\n",
      "Topic #310: drinks | Cheval | Norfolk | oldies | NARAGANSE | 3- | Thorbot | interpretation | Safety | ☕️✨\n",
      "Topic #311: burgers | chandelier | Buildings | inolvidable | variety | COMEDY | Utica | Jakes | tune | بالشيم\n",
      "Topic #312: solid | newsflash | 4:00 | Richie | 🎥🎥 | Ree | ridiculous | Libraries | busted | below⬇️⬇️\n",
      "Topic #313: Nifty50 | Fin | nearing | termino | Oliver’s | Brain | 715 | arteries | searching | behaving\n",
      "Topic #314: 😔 | regalos | Jairath | Anil | GRACE | Ulysses | Destinations | snazzy | Speech-Language | 150\n",
      "Topic #315: Fiat | Bombs | 5105 | lifestyle | Rediscovered | majority | DZINE | SHOW | Girlfriend | Carly\n",
      "Topic #316: IL | TONIGHT | Hi | Park | Lo | : | Forecast | Partly | Showers | Dec\n",
      "Topic #317: tables | thekosherskinny | ᴅɪᴄᴋ | king_yamil | Duh | salty | darle | STREAMING | Reflecting | distribution\n",
      "Topic #318: Paco's | Pregnancy | ✍🏻🔥🐺 | 1012mb | 🧤to | Five | logo | Spencer | Reserve | Apparently\n",
      "Topic #319: 🙌🏽💯🙌🏽 | OAKLAWN | 🛳 | cleaned | MAUKEE | family's | earliest | collected | insecurity | recliners\n",
      "Topic #320: step | sister | . | surgical | 55th | Remsters | photographing | Hegewisch | url | doesn't\n",
      "Topic #321: 7739059237 | Lite | FitzGerald's | worst | Ropes | Hofbräu | 02334 | gracious | north | Gabe\n",
      "Topic #322: , | url | Chicago | FUN | … | posted | Drone | 4x | FUNcation | photo\n",
      "Topic #323: Hi | IL | Snow | TONIGHT | Forecast | : | Roseland | Dec | Lo | Partly\n",
      "Topic #324: ponerte | sogno | robbery | Roy | marioszmigiel | vybz | Savvy | 💇🏽‍♀️💆🏽‍♀️💁🏽‍♀️😘 | 00223 | Nachos\n",
      "Topic #325: week’s | 198.20.69.98 | Gut | 2009 | whoops | positives | Gang | N680AE | Cargo | laundry\n",
      "Topic #326: bundles💁🏾‍♀️ | changeisnear | ?.. | Delores | Everlasting | skincare | Fair | al | Vegetable | Baack\n",
      "Topic #327: trip | IT'S | OPRF | unless | 247 | 1/2 | inolvidable | SSE | Jay | POSSIBLE\n",
      "Topic #328: url | I'm | deal | type | Decided | Pita | holiday | Land | shopping | HRS\n",
      "Topic #329: url | I'm | Chicago | IL | , | University | & | Saint | Biscuits | Xavier\n",
      "Topic #330: 03872 | Dumb | Comedic/Acting | \\ | Adobe | Float | unclemikesplace | Chicago's | Moonlight | APPEARANCE\n",
      "Topic #331: EXPRESS | inch | 📚📚 | Penske | •Calum | 6622 | Unit/Observati | understand | descansar | Sustainment\n",
      "Topic #332: provided | low-light | highs | 11-22 | Cold | stifling | Couture | Host/Hostess | twentyonepilots | TOLA\n",
      "Topic #333: url | ! | !! | Fred | Hammond | great | House | IL | Oak | …\n",
      "Topic #334: imagine | deliciosa | HEART | 50CentWingz | B.I.G. | Busy | EVERYTHING | ✈️Chicago | kensadlersk8 | NBC\n",
      "Topic #335: Chicago | url | , | - | Just | … | IL | ? | FUNcation | Diver\n",
      "Topic #336: claim | 6543 | Use | Kleptocracy | Vaughan's | presents | cookie | airbrushed | 💰😎💰 | ☆☆\n",
      "Topic #337: CHANGE | Wintrust | altura | 3AM | soviet | GladsonLTD | Tree | overdue | there’ll | pick-ups\n",
      "Topic #338: AUS | YEAR’S | ring | Assassin | AG | Knicks!’ | crib | DBA | Pero | Whats\n",
      "Topic #339: Sterile | Rouge | mixture | 5305 | ounces | Month | Step | PODER | Bodhi | sammie\n",
      "Topic #340: SHE | First-Ever | Consolidations | rid | Durag | generosos | 5407 | Fourteensixteen | Because | 6805\n",
      "Topic #341: noisily | in-charge | 😑😑 | Mentoring | drawings | Tourmalines | 6751 | Spartan | 1pm | amazingly\n",
      "Topic #342: url | - | ? | , | IL | Lee | Brilliance | Can | recommend | ..\n",
      "Topic #343: -> | wind | humidity | Oak | temperature | Lawn | : | pressure | current | weather\n",
      "Topic #344: Massages | Models | Trolley | They’ve… | riverdale | Velyvyte | crawl | Golden | brutal | Sargam’s\n",
      "Topic #345: Model- | authority | ✌🏼💙Guess | mama🥂 | STAT | poncho | Hardest | ✈️💕 | broker | branches\n",
      "Topic #346: birthday | 199 | GTD | Tuscana | GLORIOUS | curried | Chasidim | tne_brian_ | GOAT | bitterness\n",
      "Topic #347: stumped | máquina | Rick | maravilha | Rich | Mrs. | 90th | tomorrow | Schwarzbier | antengstrom\n",
      "Topic #348: Intelligence | glue | sciencey | Lon | Pinkcoin | excite | cure | Cuvee | 411 | covers\n",
      "Topic #349: url | !! | gave | picked | Doghouse | Skyway | … | movies | pen | launching\n",
      "Topic #350: Oak | -> | wind | , | clouds | Lawn | americano | : | BOOKS | Atrium\n",
      "Topic #351: 4pm | handle | underpaid | Cermak | mentally | i’ll | Party | Shoot | É | Saturday-8am\n",
      "Topic #352: My | url | … | And | Will | ' | For | To | CHANGE | PRAY\n",
      "Topic #353: Beauty’s | nigga😂😂 | Thought | CafÃ© | Sextones | Popcorn | 2081 | too💖💖 | Foggy | 7:00\n",
      "Topic #354: url | Island | … | , | Drinking | I | . | — | Rock | buyer\n",
      "Topic #355: Zeus | Chain | Lif | HAWKS | 31°F | designs | Landmark | WHATEVER | kearney | rarest\n",
      "Topic #356: Vernon | breaking | Weight | Amanhecendo | MIXTAPE | kg | Nexus | maximum | teacher | Metra\n",
      "Topic #357: Staring | EVERYWHERE | leggings | photos | ruled | volunteers | stripes | difficile | Milestone | around||\n",
      "Topic #358: justin_k_simmons | VIDA | legends | drying | Cover | feet’s | 3-7pm | perfume | ANDERSONVILLE | special\n",
      "Topic #359: Snuck | Dancers | spoke | fav | secret | 7051 | DELL | MOTION | Ritz-Carlton | varietals\n",
      "Topic #360: That | mirandaryte | Chisguete | 9702 | winter | runs | Gustave | Willamae | Handled | properly\n",
      "Topic #361: juice | 1️⃣▶️ | 🤦🏽‍♀️ | explorin | Excuse | Loral | degrees | CANDYCRUSH | Jungle | Single\n",
      "Topic #362: constantly | Educator | alexrosenkreuzphotography | volunteers | Best | inspiration | angels | Agility | Erik | LET'S\n",
      "Topic #363: Mayor | BLESSED | enchanting | Moment | 💯💯👌🏽 | Luxurious | Sal | degrees | Twin | Domestic\n",
      "Topic #364: acne | Trainee- | temporary | Calabria | transparency | Kwanzaa | Bottoms | macanudocigars | object | Big\n",
      "Topic #365: url | … | , | I | ! | today | !! | New | Christ | history\n",
      "Topic #366: Hallmark | 🍃Check | ovar | 🌲🤶🏾 | aint | ThankS | bmo | GC | Letter | Pours\n",
      "Topic #367: 198.20.87.98 | Shakespear | Chcia | Beers | lasts | university | PHONE | Fabulous | pushes | 3629\n",
      "Topic #368: 30.12.2017 | Shepard's | Sliide | Elle | Workshop | Erykah | tocaron | deload | move-in | 11\n",
      "Topic #369: Wepo | Virtually | crock | Royce | basic | lauter | D9-3 | Murphy's | dramafreemilo2010 | Batcave\n",
      "Topic #370: url | Episcopal | James | Methodist | African | … | St. | Closed | PRAY | Outbound\n",
      "Topic #371: 💯🎒 | Fabulous | brother | before➡️after | 27015 | God | KlydeSmiff | crank | Mother's | Keaton’s…\n",
      "Topic #372: Riddles | Comedy | everytime | 💥😎 | scent | 16oz | 25yrs | kats | 💥HIT | NITE\n",
      "Topic #373: -9 | mouf | remix | SAP | 50th | DONATING | 💚🎋🍃 | LIPOMATIC | wide | peppered\n",
      "Topic #374: Avenue | North | West | Foster | Higgins | Normandy | Rutherford | Natoma | England | Newcastle\n",
      "Topic #375: Blake's | off-loads | pod | mk | Institution | Residential | lgaairport | Billy | 5505 | 00225\n",
      "Topic #376: Emily | Process | K3 | Puerto | nuestra | needle | Confetti | Als | Aires | Crow\n",
      "Topic #377: , | url | IL | : | - | ! | Can | great | Manager | apply\n",
      "Topic #378: url | , | … | Oak | . | Lawn | - | I'm | IL | The\n",
      "Topic #379: url | . | , | Raven's | … | IL | Kenwood | unfiltered | session | Vivere\n",
      "Topic #380: Chat | 🎙 | Bee | 004 | Cheval | dornstar81 | Estate | Procurement | Nutrition | links\n",
      "Topic #381: struggling | carbon | Ogden | abominable | Focus | laugh | Baseline | Cherries | KTF | upcoming\n",
      "Topic #382: God | Fisher | plate | similarly | co-author | Ez | vision | rideshare | Basically | ovation\n",
      "Topic #383: ! | Get | , | As | slayed | … | parties | shows | url | tees\n",
      "Topic #384: Lo | IL | Park | : | Forecast | Snow | Dec | Hi | Morgan | TONIGHT\n",
      "Topic #385: url | ? | , | IL | : | latest | cosmetic | - | Retire | Atomic\n",
      "Topic #386: Lisa | melanin | CheckMATE | Barbecue | scifi | Algebra | recliner | 🤦🏽‍♂️😂😂 | buyer | editing\n",
      "Topic #387: GOLD⚜️♠️ | Flu | dis¿ | ✂📐✂📐 | Haters | LuCinda | anointing | compete | Random | 🍩\n",
      "Topic #388: 4x | install | Barbacoa | Details | Charles | driving | 📶📶 | bred | knew | 🌭\n",
      "Topic #389: Cayex | Thon | installment | Harwood | Nature | scarves | Jeet | Dana | Mitchell's | Donald's\n",
      "Topic #390: worship | Trader | Mecca | 4-7 | soon-to-be | Tedinos | hammers | 🛫🏔🗻🏞💙💖❣️ | dancin | beanie\n",
      "Topic #391: Communique | Underground | Drinking | Today | aged | … | - | release | bottle | Vintage\n",
      "Topic #392: : | Lawn | Dec | IL | Forecast | Snow | Oak | Lo | Hi | PM\n",
      "Topic #393: CSG | housewive | 5123 | Advisory | アンドレアたち | Pickle | 2K17 | DJing | Maker’s | athletic\n",
      "Topic #394: Ravenwood | Incubator | Fedde | Forum | did | measured | pusheenbox | voltear | acts | Seriously\n",
      "Topic #395: planted | H&M | 2017✨ | Highly | PLAINES-2655-2695 | Tomorrow’s | 🎤 | satisfy | trajo | Payton\n",
      "Topic #396: CJ | ?!! | Machinery | Gates | handles | Steppenwolf | Suit | Robbers | EXPERIENCED | won't\n",
      "Topic #397: Feinberg | boards | Leadership | Tyler | $5.00 | prefer | •SWIPE | Magazine | Picking | Aloha\n",
      "Topic #398: choices | Esparza | cumple | Beyond | 28mm | Where | Gyros | Daley | deez | Budlong\n",
      "Topic #399: Bears | there’ll | def | sculptures | thekosherskinny | Asante’s | sums | Bottle | reflected | Sephora\n",
      "Topic #400: url | . | , | Union | Bethany | Imports | Calabria | Church | Chicago | IL\n",
      "Topic #401: Functional | Tel | foundations | Thinker | Boilermaker | EDGEBROOK | mistakes | flow | BRAND | announce\n",
      "Topic #402: hurry | Slippery | S’merrier | Pup)🎶 | Flowers | continuously | Category | unlike | eggnog | SLAY👠\n",
      "Topic #403: phoenixbeantofu | Report | kill | DID | Hopleaf | insanely | 👨🏻‍🎤 | Fit | barogers3 | Villita\n",
      "Topic #404: url | … | Island | - | , | ! | Drinking | Blue | — | !!\n",
      "Topic #405: Interference | 07948 | Leftridge | LIFE | Dua | FUN | ﬁnstagram | 2018/01/07 | 1911 | 🅱️GRAVE🦍\n",
      "Topic #406: Everyone | melt | Chatham | WHO | Quick | (ツ) | Holla | stressful | Qua | CLAW\n",
      "Topic #407: Officer | /• | Gardenia | Te | Safe | gawjiss_barb | Ferris | salmon | Nobody | dope\n",
      "Topic #408: JUST | gceventschi | 03908 | Loan | nepotism | collection | bumpkin | ️😘🤗 | 👑™ | genres\n",
      "Topic #409: brand-new | Foot | 👨🏽‍🍳👨🏽‍🍳❓ | Jimmy | DEPOSIT | Stratford | Ayye | foolish | announce | players\n",
      "Topic #410: Molly | discomfort | Hot | room2chicago | Sweat | 6️⃣ | 🙏🙏LINK | Balmoral | benefit | Sandy\n",
      "Topic #411: Artmill | defrost | subtle | pilots | Nachos | nickel | Contact | retenir | 15:47:49 | Purpose\n",
      "Topic #412: button | Seat | Simple | Jorge | Goes | Cooperative | visited | DRACOBANKS | rat | NARD\n",
      "Topic #413: deficit | 😮😮 | smoked | Precioustone | Horace | corgistagrams | puffy | charged | guerilla | 🚨Giveaway\n",
      "Topic #414: discovering | 💯💯 | Literature | MAC | Requiem | 8mph | Tireless | interception | standards | Embraer\n",
      "Topic #415: thedrifterchicago | solution | TELECOMMUNICATIONS | boxing | control | Senior | Mommy's | spirited | 1996 | Llenando\n",
      "Topic #416: Public | Library | Jeffrey | Manor | Branch | Beverly | 2148 | 95th | Organizing | recuperate\n",
      "Topic #417: 🔥🔥🌊🌊 | Ruffle | 33°F | ️ | Señor | CANT | Pepito | 6600 | tags | rífando\n",
      "Topic #418: polish | tots | Immigration | FERRIS | Hair | saves | youth | 💜💛 | 6713 | ▶️\n",
      "Topic #419: Space | West | 918 | url | Event | Camarones | Aronica | solution | casi | hate\n",
      "Topic #420: congelan | queen | walls | Publican | Donato | 📖 | concerned | Overheard | stunt | typical\n",
      "Topic #421: jewelry | Roast | thestaycationers | Distribution | Super | Vietnamese | ⚡️Standard | WAVELAND | Nye | Ughh\n",
      "Topic #422: Lazurite | Lions | 🍻🍻👯👯 | La | VCA | Wilson | tepid | Folks | Brown | besties\n",
      "Topic #423: NK | chances | parece | VA | doorbell | chi-town | Highland | maureensandiego | Rit’s | Pineus\n",
      "Topic #424: , | -> | : | url | Oak | humidity | Lawn | wind | weather | temperature\n",
      "Topic #425: possible | whips | baseball | Years | Closed | 😀 | Wholistic | Costello | Laboratory | Sofie\n",
      "Topic #426: blizzard | MiXX | CHICAGO's | Booze | $300 | upper | Frozen | markets | INSIDE | FAMILY\n",
      "Topic #427: plank | Santa's | nearly | Puerto | 그렇지만 | 101 | Glasses | nigga🙏🏿 | upcoming | Aphorism\n",
      "Topic #428: url | !! | IL | , | … | Chicago | I'm | She | 😙☠ | Fabulous\n",
      "Topic #429: weekends | Locum | Aka | RemX | Tiny | External | Trying | JAMMIN | Salesperson | Penny\n",
      "Topic #430: url | : | , | IL | latest | ! | - | See | Event | opening\n",
      "Topic #431: 00221 | spends | Ever | confianza | 🤥 | 12/31 | Macedo | district | 🌲🎁 | authority\n",
      "Topic #432: Summerdale | Harlem | 5357 | Farragut | Neva | 5351 | 5344 | 5347 | 5340 | 5350\n",
      "Topic #433: test | drinker | Kanela | TFW | Engineering- | Gangsta | DD | Pepito | Mannheim | flyers\n",
      "Topic #434: Daystar | Scents | regional | Dental | 4mph | Mafia | benenson | Perry | Chips | merch\n",
      "Topic #435: mud | Dreams | MSP | gg | 199 | Downers | Prism | swingin | failure | ⛓email\n",
      "Topic #436: encouragement | 🎄💡 | tips | MDW | mushroom | Nexus | Citrusy | 14TH | Tues | Limited\n",
      "Topic #437: Troy | pancake | microwave | 02827 | Nuffin | Nuff | breaking | 😍🐕👦🏻💀🇲🇽💓 | CREW | focus\n",
      "Topic #438: erhmm | job | Treasurer | Buds | Autism | PUT | 💇🏼‍♂️💇🏽‍♀️✂️ | C-O-L-D | Lalo's | mentioned\n",
      "Topic #439: Biosurgery | Guanajuato | Claws | MD-11 | $15.00 | wintery | foe | 549 | Orchestrating | Burwood\n",
      "Topic #440: url | . | , | … | Never | seed | pledge💕 | Bening | asting | Astra\n",
      "Topic #441: Gonna | Application | 4mph | drills | organized | dünya | washed | ❓❔❓❔ | sorta | Calboy\n",
      "Topic #442: TRAINING | Claus | 😎happycamperchicago | Semi-sweet | Breakfast | Bloody | retweet | Vivian | PRAISE | MINUTE\n",
      "Topic #443: Heather | Observation | JOY | lead | Joanne's | Uno's | ✨Someone | Vice | engaging | Tings\n",
      "Topic #444: url | … | !! | Grooming | hosted | 🌃💙 | Asian | 6537 | COCO | CHILDHOOD\n",
      "Topic #445: 😅 | Doot | Sativa | Passing | talent | Muay | grade | West | senior | feeding\n",
      "Topic #446: Kakes | sources | hahahaa | ANALYST | Baby | evento | Brewpub | escape🛫 | EQUIFAX | Although\n",
      "Topic #447: Salt | handsome | BOUT | Wrap-Up | years | Performance | parisianfloors | FORMATIVE | típico | 80s\n",
      "Topic #448: url | , | : | latest | IL | opening | See | click | Join | -\n",
      "Topic #449: guys | ordering | later | Sabat | faint | Snack | Large | 2NITE | trip | LPN\n",
      "Topic #450: 6542 | experi | Saints/patriots | Nite | 100lbs | Croquettes | 10th | Claypool | matching | iamdcruz312\n",
      "Topic #451: LIVING | SRC-HR | curator | 00225 | tastytrade | foto | Intern | Erin | vibing | shops\n",
      "Topic #452: sunroom | 20012 | kg | conquer | Pre-rehearsal | STORE | set | Steaks | power-packed | Americana\n",
      "Topic #453: Romanesque | DDESS | Block | not-so-little | aligning | Bio👆 | BASH | departures | rules | Mos\n",
      "Topic #454: Beverly | 773.789.8096 | 10855 | Brow | beauties | slayed | Arts | 10am- | Amour | 💋OrensBeauty\n",
      "Topic #455: gods | Cta | CASL | retired | ¿ | Sploosh | 🇸🇪 | Comedy | slackin | Usually\n",
      "Topic #456: slacking | 6800 | 🤣😂 | Champlain | si | Providence | membersonlyusa | 👣🏩💕 | FDN | 🍳🥂\n",
      "Topic #457: url | , | : | ! | . | ? | … | IL | - | Place\n",
      "Topic #458: jamming | Round | Worth | 👍🏾 | 03872 | RECIBIR | Sweetest | Patio | fazla | Sinner\n",
      "Topic #459: Spicy | meant | Winning | Taken | 🤳💅💄💋👄 | bath | giveaway | Tropic | invites | 🍕🍝🍽\n",
      "Topic #460: 1180 | HYATT | United🛠Apparel™ | passage | corazón | 👠💄💅👑 | Avery | esposa | على | Waldorf\n",
      "Topic #461: Penske | PPC | refine | Drawbridge | 17mph | Woohoo | HealthCare | leather | IMMANENTLY | 😍😘😨🙏🏿🌬❄☃️\n",
      "Topic #462: Yoshikawa | DM | Brick | Seasonal | hacerme | advance | tarnish | Cuttery | ♑️🤝👑👼🏾 | dewy\n",
      "Topic #463: Daniel's | Lasting | trails | Mantra | sweatpants | 2706 | PULL-UP | Rivernorth | vocation | SHIPMENT\n",
      "Topic #464: SE | Caramelized | heh | rawtvradio | 3am-9am | ️❄️⛄️ | sexies | Insight | Chick | Common\n",
      "Topic #465: Bad | DESERVED | Conscious | bonitas | cuddle | cracked | tragus | Tattoos | Ft | ️🙌🏽\n",
      "Topic #466: CNA | Christmas🎄 | sang | ROLLIN | Desk | 💪🏻👍🏼👊🏼🤘🏼 | Brewery | Lips | mocos | Ezlinks\n",
      "Topic #467: saturdaze | tres | generally | Separation | Cena | Sheep | Thanl | senior | brunch | Bell-sleeve\n",
      "Topic #468: - | Click | Store | : | ! | 23421 | Krystelle | contemplate | sesame | broker\n",
      "Topic #469: url | , | IL | ? | - | : | We're | ! | Parts | opening\n",
      "Topic #470: ✍🏻🔥🐺 | Birthmark | $BTC | umbertoeco | NWS | Years | officialacstyle | division | Sheep | Vagabond\n",
      "Topic #471: Phonte | Bird | Lonesome | plastic | trove | Before/After | Burning | war | Curbside | Reflection✨\n",
      "Topic #472: COCORAHS | painfully | 2018/01/07 | spam | 2°F | Sickest | cloie | representation | 9300 | Shh\n",
      "Topic #473: avocado | Stetson's | VOTE | numerous | Irie | hace😔 | wtf | 2018🥂 | 😍😂 | AWAY‼️🍾🎊🎉\n",
      "Topic #474: IceHouse | pride | BEFORE | bought | 4200 | Punch | cabinet | Buttercream | 5412 | Exchange\n",
      "Topic #475: -belmontCragin | DM | 02373 | Buyer | Cone-not | alive | moved | Before | all-white | BTS\n",
      "Topic #476: Paying | 5incoNetwork | k_stylez_78 | Rid | Spacious | wow | Keeping | Sessions | jajaja | RGIS\n",
      "Topic #477: Residential | Talcott | 773) | FO | fed | 2013 | scores | Wealth | Cell | ️⛸🍻\n",
      "Topic #478: CHEF | Main | Grilla | NEIU | 6837 | TRUE | hide | Schnickelfritz | Kelley | Waffle\n",
      "Topic #479: ✊🏿 | spectacular | s | Worker- | ?? | Party | activity | Lotus | light | Accessories\n",
      "Topic #480: You | Salon | better | Safely | I | naming | Know | gals | Seton | 💪🏾🙌🏾😅\n",
      "Topic #481: … | Keisha | url | 5457 | ! | ' | bebés | Bye | emoji | &\n",
      "Topic #482: knuckle | souls💫 | participated | 🐕 | Building | 5224 | hairless | scores | mail | PC\n",
      "Topic #483: url | , | … | ! | Roseland | Pale | uma | HGTV | Pub | spirited\n",
      "Topic #484: DEAL | won | .__. | textured | casual | Harvey | banquetas | job | stencil | TOWN\n",
      "Topic #485: DOPE | speechless | Item | 🎄🎁🎄🎁🎄🎁 | start | 🦇 | Schnickelfritz | 🎄This | 🎅☃️😂 | roast\n",
      "Topic #486: Pero | Hopped | requested | Jets | Banquets | eat | performing | headshot/portrait | pit | agradecerá\n",
      "Topic #487: worries | Минесотой | Funko | phone📱who | ACL | POWER | BT | ☕️🍔🍟 | Bhandari | SMOKING\n",
      "Topic #488: drona | 1048 | Crafty | still🤷🏾‍♀️ | Father | suspiciously | hired | cinnamon | accurate | ihnomuhnit\n",
      "Topic #489: Tomorrow | chick | brazos | Ghjammarìedda | lasagna | RFID | last-minute | holes | Die😆 | 1426\n",
      "Topic #490: Remember | Enrichment | Assurance | Spirituality | Officer | Rivernorth | Indeed | officialacstyle | warmth | twists\n",
      "Topic #491: Snow | Park | IL | Forecast | : | TONIGHT | Hi | Lo | PM | Dec\n",
      "Topic #492: Wedge | машина | 🏙‼️ | RCN | Liquid | magician | Drumroll | chances | importance | Mia\n",
      "Topic #493: ribs | gusta | Wintrust | Sic | rhinohead | Crest | Cousin | forevs | low-fps | MIL\n",
      "Topic #494: Dec | TONIGHT | Snow | Hi | Forecast | : | Lo | IL | PM | AM\n",
      "Topic #495: amirite | 48457 | refers | Cliff | fields | G&T | Barbershop | Peterson | Bonito | upload\n",
      "Topic #496: Darden | T.B.E. | 5346 | Dallas | NO | 35 | Prices | earther | distilled | 5414\n",
      "Topic #497: REGISTRY | Lentil | MOTION | Stop | ☃️❄️ | 💁🏽😍 | scholarship | 🎵 | Código | CANDYCRUSH\n",
      "Topic #498: esperamos | 💥💥FLASH | 🇸🇪 | 5626 | Rockefeller | Sanders | 🙈😍 | horror | smoothie | Mar\n",
      "Topic #499: warmth | writes | Boudoir | siblings | 7547 | Pilates | 73% | extremely | BEAUTIFUL | Steingold's…\n",
      "\n"
     ]
    }
   ],
   "source": [
    "lda = learn_lda(docs.tolist())\n"
   ]
  },
  {
   "cell_type": "code",
   "execution_count": 84,
   "metadata": {},
   "outputs": [],
   "source": [
    "q = docs.tolist()"
   ]
  },
  {
   "cell_type": "code",
   "execution_count": 95,
   "metadata": {},
   "outputs": [
    {
     "data": {
      "text/plain": [
       "{'batch_size': 128,\n",
       " 'doc_topic_prior': None,\n",
       " 'evaluate_every': -1,\n",
       " 'learning_decay': 0.7,\n",
       " 'learning_method': 'online',\n",
       " 'learning_offset': 50.0,\n",
       " 'max_doc_update_iter': 100,\n",
       " 'max_iter': 5,\n",
       " 'mean_change_tol': 0.001,\n",
       " 'n_components': 5,\n",
       " 'n_jobs': 1,\n",
       " 'n_topics': None,\n",
       " 'perp_tol': 0.1,\n",
       " 'random_state': 42,\n",
       " 'topic_word_prior': None,\n",
       " 'total_samples': 1000000.0,\n",
       " 'verbose': 0}"
      ]
     },
     "execution_count": 95,
     "metadata": {},
     "output_type": "execute_result"
    }
   ],
   "source": [
    "lda.get_params()"
   ]
  },
  {
   "cell_type": "markdown",
   "metadata": {},
   "source": [
    "## Model Training & Evaluation"
   ]
  },
  {
   "cell_type": "markdown",
   "metadata": {},
   "source": [
    "### Training"
   ]
  },
  {
   "cell_type": "markdown",
   "metadata": {},
   "source": [
    "### Evaluation"
   ]
  }
 ],
 "metadata": {
  "kernelspec": {
   "display_name": "Python 3",
   "language": "python",
   "name": "python3"
  },
  "language_info": {
   "codemirror_mode": {
    "name": "ipython",
    "version": 3
   },
   "file_extension": ".py",
   "mimetype": "text/x-python",
   "name": "python",
   "nbconvert_exporter": "python",
   "pygments_lexer": "ipython3",
   "version": "3.6.4"
  }
 },
 "nbformat": 4,
 "nbformat_minor": 2
}
