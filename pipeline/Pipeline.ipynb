{
 "cells": [
  {
   "cell_type": "markdown",
   "metadata": {},
   "source": [
    "# Crime Prediction using Tweets and KDE"
   ]
  },
  {
   "cell_type": "code",
   "execution_count": 1,
   "metadata": {},
   "outputs": [],
   "source": [
    "%matplotlib inline\n",
    "\n",
    "import os\n",
    "import glob\n",
    "import itertools\n",
    "import functools\n",
    "\n",
    "import matplotlib.pylab as plt\n",
    "import numpy as np\n",
    "import pandas as pd\n",
    "import seaborn as sns\n",
    "\n",
    "from tqdm import tqdm_notebook\n",
    "\n",
    "\n",
    "from utils.consts import START_DATE, END_DATE, KDE_BANDWITH, LDA_PARAMS, LDA_TOPICS\n",
    "\n",
    "from utils.geo import latlng2grid_cords_chicago, \\\n",
    "                      latlng2LDA_topics_chicago, \\\n",
    "                      generate_chicago_threat_grid_list, \\\n",
    "                      enrich_with_chicago_grid_200, \\\n",
    "                      CHICAGO_UTM_COORDS, FALSE_LABLE_DATASET_CELL_SIZE"
   ]
  },
  {
   "cell_type": "code",
   "execution_count": 2,
   "metadata": {},
   "outputs": [],
   "source": [
    "RAW_CRIMES_DATA_PATH = os.path.join('data', 'raw', 'Crimes_-_2001_to_present.csv')\n",
    "PROCESSED_CRIMES_DATA_PATH = os.path.join('data', 'processed', 'crime_data.csv')\n",
    "\n",
    "RAW_TWEETS_DATA_WILDCARD_PATH = ('\"' +\n",
    "                                 os.path.join('data', 'raw', 'tweets', '*.json') +\n",
    "                                 '\"')\n",
    "PROCESSED_TWEETS_DATA_PATH = os.path.join('data', 'processed', 'tweets_data.csv')"
   ]
  },
  {
   "cell_type": "markdown",
   "metadata": {},
   "source": [
    "![title](./ANLP-Project-Pipeline.png)"
   ]
  },
  {
   "cell_type": "markdown",
   "metadata": {},
   "source": [
    "## Research Time Frame"
   ]
  },
  {
   "cell_type": "code",
   "execution_count": 3,
   "metadata": {},
   "outputs": [
    {
     "name": "stdout",
     "output_type": "stream",
     "text": [
      "2017-12-08 ---> 2018-02-19\n"
     ]
    }
   ],
   "source": [
    "print(START_DATE, '--->', END_DATE)"
   ]
  },
  {
   "cell_type": "markdown",
   "metadata": {},
   "source": [
    "## Data Sources & Preprocessing"
   ]
  },
  {
   "cell_type": "markdown",
   "metadata": {},
   "source": [
    "### Chicago Crimes Incidents"
   ]
  },
  {
   "cell_type": "code",
   "execution_count": 4,
   "metadata": {},
   "outputs": [
    {
     "name": "stdout",
     "output_type": "stream",
     "text": [
      "INFO:root:Loading raw crime data...\n",
      "INFO:root:#: 6544862\n",
      "INFO:root:Arranging columns...\n",
      "INFO:root:Filtering by time...\n",
      "INFO:root:#: 6544862\n",
      "INFO:root:#: 45869\n",
      "INFO:root:Filtering by location...\n",
      "INFO:root:#: 45195\n",
      "INFO:root:Filtering by crime type...\n",
      "INFO:root:#: 10902\n",
      "INFO:root:Selecting columns...\n",
      "INFO:root:#: 10902\n",
      "INFO:root:Sorting by time...\n",
      "INFO:root:#: 10902\n",
      "INFO:root:Saving processed crime data...\n",
      "INFO:root:Done!\n"
     ]
    }
   ],
   "source": [
    "if not os.path.exists(PROCESSED_CRIMES_DATA_PATH):\n",
    "    !python3 ./preprocess_crimes_data.py {RAW_CRIMES_DATA_PATH}  {PROCESSED_CRIMES_DATA_PATH}"
   ]
  },
  {
   "cell_type": "code",
   "execution_count": 4,
   "metadata": {},
   "outputs": [],
   "source": [
    "crimes_data = pd.read_csv(PROCESSED_CRIMES_DATA_PATH)"
   ]
  },
  {
   "cell_type": "code",
   "execution_count": 5,
   "metadata": {},
   "outputs": [
    {
     "data": {
      "text/plain": [
       "10902"
      ]
     },
     "execution_count": 5,
     "metadata": {},
     "output_type": "execute_result"
    }
   ],
   "source": [
    "len(crimes_data)"
   ]
  },
  {
   "cell_type": "code",
   "execution_count": 6,
   "metadata": {},
   "outputs": [
    {
     "data": {
      "text/plain": [
       "min    2017-12-08 01:00:00\n",
       "max    2018-02-19 12:50:00\n",
       "Name: timestamp, dtype: object"
      ]
     },
     "execution_count": 6,
     "metadata": {},
     "output_type": "execute_result"
    }
   ],
   "source": [
    "crimes_data['timestamp'].agg(['min', 'max'])"
   ]
  },
  {
   "cell_type": "markdown",
   "metadata": {},
   "source": [
    "### Tweets"
   ]
  },
  {
   "cell_type": "code",
   "execution_count": 8,
   "metadata": {},
   "outputs": [
    {
     "name": "stdout",
     "output_type": "stream",
     "text": [
      "INFO:root:Processing tweets jsons...\n",
      "100%|███████████████████████████████████████| 1072/1072 [19:48<00:00,  1.11s/it]\n",
      "INFO:root:# raw tweets: 1135099\n",
      "INFO:root:# final tweets: 79634\n",
      "INFO:root:% final tweets: 7.0155995203942565\n",
      "INFO:root:% with geo key: 10.790864937771948\n",
      "INFO:root:% with no geo key but with place:\n",
      "admin           31.747363\n",
      "city            54.278437\n",
      "country          1.595456\n",
      "neighborhood     0.753855\n",
      "poi              0.731478\n",
      "dtype: float64\n",
      "INFO:root:Saving processed tweets data...\n",
      "INFO:root:Done!\n",
      "CPU times: user 23.7 s, sys: 7.43 s, total: 31.1 s\n",
      "Wall time: 19min 51s\n"
     ]
    }
   ],
   "source": [
    "%%time\n",
    "\n",
    "if not os.path.exists(PROCESSED_TWEETS_DATA_PATH):\n",
    "    !python3 -W ignore ./preprocess_tweets_data.py {RAW_TWEETS_DATA_WILDCARD_PATH} {PROCESSED_TWEETS_DATA_PATH}"
   ]
  },
  {
   "cell_type": "code",
   "execution_count": 12,
   "metadata": {},
   "outputs": [],
   "source": [
    "tweets_data = pd.read_csv(PROCESSED_TWEETS_DATA_PATH)\n",
    "tweets_data['tokens'] = tweets_data['tokens'].apply(lambda x: eval(x))"
   ]
  },
  {
   "cell_type": "code",
   "execution_count": 8,
   "metadata": {},
   "outputs": [
    {
     "data": {
      "text/plain": [
       "79634"
      ]
     },
     "execution_count": 8,
     "metadata": {},
     "output_type": "execute_result"
    }
   ],
   "source": [
    "len(tweets_data)"
   ]
  },
  {
   "cell_type": "code",
   "execution_count": 11,
   "metadata": {},
   "outputs": [
    {
     "data": {
      "text/plain": [
       "min    2017-12-08 19:58:35\n",
       "max    2018-02-19 01:27:36\n",
       "Name: timestamp, dtype: object"
      ]
     },
     "execution_count": 11,
     "metadata": {},
     "output_type": "execute_result"
    }
   ],
   "source": [
    "tweets_data['timestamp'].agg(['min', 'max'])"
   ]
  },
  {
   "cell_type": "markdown",
   "metadata": {},
   "source": [
    "#### Sub-grouping by Geo-Location"
   ]
  },
  {
   "cell_type": "code",
   "execution_count": 7,
   "metadata": {},
   "outputs": [],
   "source": [
    "def generate_tweets_docs(tweets_data):\n",
    "    tweet_docs_groupby = tweets_data.groupby(('latitude_index', 'longitude_index'))\n",
    "    tweet_docs = tweet_docs_groupby['tokens'].apply(lambda r : list(r)).apply(lambda r: sum(r, []))\n",
    "    tweet_docs = tweet_docs.sort_index()\n",
    "    return tweet_docs"
   ]
  },
  {
   "cell_type": "code",
   "execution_count": 8,
   "metadata": {},
   "outputs": [],
   "source": [
    "chicago_grid_mask = lambda lat, lng: latlng2grid_cords_chicago(lat, lng) in tweet_docs.index"
   ]
  },
  {
   "cell_type": "markdown",
   "metadata": {},
   "source": [
    "## Feature Extracts"
   ]
  },
  {
   "cell_type": "markdown",
   "metadata": {},
   "source": [
    "### KDE"
   ]
  },
  {
   "cell_type": "code",
   "execution_count": 9,
   "metadata": {},
   "outputs": [],
   "source": [
    "from sklearn.neighbors.kde import KernelDensity\n",
    "\n",
    "def train_KDE_model(train_df, bandwith=KDE_BANDWITH):\n",
    "    '''\n",
    "    Train KDE model.\n",
    "\n",
    "    Input:\n",
    "    train_df: train data frame with Latitude Logitude. 3 months prior data for the day of surveillance..\n",
    "\n",
    "    Output:\n",
    "    KDE Model\n",
    "    '''\n",
    "    \n",
    "    kde = KernelDensity(bandwidth=bandwith,\n",
    "                        metric='haversine',\n",
    "                        kernel='gaussian',\n",
    "                        algorithm='ball_tree')\n",
    "    \n",
    "    kde.fit(train_df[['latitude','longitude']])\n",
    "    \n",
    "    return kde"
   ]
  },
  {
   "cell_type": "code",
   "execution_count": 10,
   "metadata": {},
   "outputs": [],
   "source": [
    "crimes_kde_model = train_KDE_model(crimes_data)"
   ]
  },
  {
   "cell_type": "markdown",
   "metadata": {},
   "source": [
    "### TODO - visualization"
   ]
  },
  {
   "cell_type": "markdown",
   "metadata": {},
   "source": [
    "### Sentiment Analysis"
   ]
  },
  {
   "cell_type": "markdown",
   "metadata": {},
   "source": [
    "### LDA"
   ]
  },
  {
   "cell_type": "code",
   "execution_count": 11,
   "metadata": {},
   "outputs": [],
   "source": [
    "from sklearn.decomposition import LatentDirichletAllocation\n",
    "from sklearn.feature_extraction.text import CountVectorizer\n",
    "\n",
    "def coalesce(token):\n",
    "    '''\n",
    "    Klaues: why this function?\n",
    "    '''\n",
    "    new_tokens = []\n",
    "    for char in token:\n",
    "        if len(new_tokens) < 2 or char != new_tokens[-1] or char != new_tokens[-2]:\n",
    "            new_tokens.append(char)\n",
    "    return ''.join(new_tokens)\n",
    "\n",
    "def preprocess_tweet_for_LDA(raw_tokens):\n",
    "    '''\n",
    "    text input is one string\n",
    "    output is tokenized and preprocessed(as defined below) text\n",
    "    \n",
    "    lowercase\n",
    "    no hashtags or mentions\n",
    "    any url converted to \"url\"\n",
    "    replace multiple repeated chars with 2 of them. eg paaaarty -> paarty\n",
    "    '''\n",
    "    \n",
    "    processed_tokens = []\n",
    "    for token in raw_tokens:\n",
    "        if token.startswith(\"@\") or token.startswith(\"#\"):\n",
    "            continue\n",
    "        elif token.startswith(\"https://\") or token.startswith(\"http://\"):\n",
    "            processed_tokens.append(\"url\")\n",
    "        else:\n",
    "            processed_tokens.append(coalesce(token))\n",
    "            \n",
    "    return processed_tokens\n",
    "\n",
    "def train_LDA_model(docs, params=LDA_PARAMS, preprocessor=preprocess_tweet_for_LDA):\n",
    "    \n",
    "    vectorizer = CountVectorizer(stop_words=\"english\",\n",
    "                                 preprocessor=preprocessor,\n",
    "                                 tokenizer=lambda x:x)\n",
    "    \n",
    "    lda_train_data = vectorizer.fit_transform(docs)\n",
    "    \n",
    "    lda_model = LatentDirichletAllocation(n_components=params['n_components'],\n",
    "                                          max_iter=params['max_iter'],\n",
    "                                          learning_method=params['learning_method'],\n",
    "                                          learning_offset=params['learning_offset'],\n",
    "                                          random_state=params['random_state'],\n",
    "                                          verbose=params['verbose'])\n",
    "\n",
    "    lda_model.fit(lda_train_data)\n",
    "    \n",
    "    doc_topics = lda_model.transform(lda_train_data)\n",
    "    \n",
    "    vocabulary = vectorizer.get_feature_names()\n",
    "    \n",
    "    return lda_model, doc_topics, vocabulary"
   ]
  },
  {
   "cell_type": "code",
   "execution_count": 12,
   "metadata": {},
   "outputs": [
    {
     "name": "stdout",
     "output_type": "stream",
     "text": [
      "iteration: 1 of max_iter: 10\n",
      "iteration: 2 of max_iter: 10\n",
      "iteration: 3 of max_iter: 10\n",
      "iteration: 4 of max_iter: 10\n",
      "iteration: 5 of max_iter: 10\n",
      "iteration: 6 of max_iter: 10\n",
      "iteration: 7 of max_iter: 10\n",
      "iteration: 8 of max_iter: 10\n",
      "iteration: 9 of max_iter: 10\n",
      "iteration: 10 of max_iter: 10\n"
     ]
    }
   ],
   "source": [
    "tweets_lda_model, doc_topics, tweets_vocabulary = train_LDA_model(tweet_docs.tolist())"
   ]
  },
  {
   "cell_type": "code",
   "execution_count": 13,
   "metadata": {},
   "outputs": [],
   "source": [
    "def get_topic_top_words_LDA(topic_index, lda_model, vocabulary, n_top_words):\n",
    "    topic = lda_model.components_[topic_index]\n",
    "    return [vocabulary[i] for i in topic.argsort()[:-n_top_words - 1:-1]]\n",
    "            \n",
    "def print_top_words_LDA(lda_model, vocabulary, n_top_words):\n",
    "    for topic_idx in range(len(lda_model.components_)):\n",
    "        \n",
    "        message = \"Topic #%d: \" % topic_index\n",
    "        message += \" | \".join(get_topic_top_words_LDA(topic_index, lda_model, vocabulary, n_top_words))\n",
    "\n",
    "        print(message)\n",
    "    print()\n",
    "    \n",
    "# print_top_words_LDA(tweets_lda_model, tweets_vocabulary, 5)    \n",
    "\n",
    "\n",
    "get_tweets_topic_top_words_LDA = functools.partial(get_topic_top_words_LDA,\n",
    "                                                   lda_model=tweets_lda_model,\n",
    "                                                   vocabulary=tweets_vocabulary,\n",
    "                                                   n_top_words=5)\n",
    "\n",
    "latlng2LDA_tweet_topics_chicago = functools.partial(latlng2LDA_topics_chicago,\n",
    "                                                doc_topics=doc_topics,\n",
    "                                                docs=tweet_docs)"
   ]
  },
  {
   "cell_type": "code",
   "execution_count": 14,
   "metadata": {},
   "outputs": [
    {
     "data": {
      "text/plain": [
       "<matplotlib.image.AxesImage at 0x10b513f60>"
      ]
     },
     "execution_count": 14,
     "metadata": {},
     "output_type": "execute_result"
    },
    {
     "data": {
      "image/png": "[encoded data removed]",
      "text/plain": [
       "<matplotlib.figure.Figure at 0x10b4fe828>"
      ]
     },
     "metadata": {},
     "output_type": "display_data"
    }
   ],
   "source": [
    "plt.imshow(doc_topics/doc_topics.max(axis=0), cmap='gray')"
   ]
  },
  {
   "cell_type": "markdown",
   "metadata": {},
   "source": [
    "## Model Training & Evaluation"
   ]
  },
  {
   "cell_type": "markdown",
   "metadata": {},
   "source": [
    "### Prepare datasets"
   ]
  },
  {
   "cell_type": "code",
   "execution_count": 15,
   "metadata": {},
   "outputs": [
    {
     "data": {
      "text/plain": [
       "<module 'utils.geo' from '/Users/shlomi/projects/Crime-Prediction-with-Tweets/pipeline/utils/geo.py'>"
      ]
     },
     "execution_count": 15,
     "metadata": {},
     "output_type": "execute_result"
    }
   ],
   "source": [
    "import imp\n",
    "import utils.consts\n",
    "imp.reload(utils.consts)\n",
    "import utils.geo\n",
    "imp.reload(utils.geo)"
   ]
  },
  {
   "cell_type": "code",
   "execution_count": 16,
   "metadata": {},
   "outputs": [],
   "source": []
  },
  {
   "cell_type": "code",
   "execution_count": 17,
   "metadata": {},
   "outputs": [],
   "source": []
  },
  {
   "cell_type": "code",
   "execution_count": 18,
   "metadata": {},
   "outputs": [
    {
     "data": {
      "text/html": [
       "<div>\n",
       "<style scoped>\n",
       "    .dataframe tbody tr th:only-of-type {\n",
       "        vertical-align: middle;\n",
       "    }\n",
       "\n",
       "    .dataframe tbody tr th {\n",
       "        vertical-align: top;\n",
       "    }\n",
       "\n",
       "    .dataframe thead th {\n",
       "        text-align: right;\n",
       "    }\n",
       "</style>\n",
       "<table border=\"1\" class=\"dataframe\">\n",
       "  <thead>\n",
       "    <tr style=\"text-align: right;\">\n",
       "      <th></th>\n",
       "      <th>#</th>\n",
       "      <th>%</th>\n",
       "    </tr>\n",
       "  </thead>\n",
       "  <tbody>\n",
       "    <tr>\n",
       "      <th>False</th>\n",
       "      <td>22858</td>\n",
       "      <td>74</td>\n",
       "    </tr>\n",
       "    <tr>\n",
       "      <th>True</th>\n",
       "      <td>8106</td>\n",
       "      <td>26</td>\n",
       "    </tr>\n",
       "  </tbody>\n",
       "</table>\n",
       "</div>"
      ],
      "text/plain": [
       "           #   %\n",
       "False  22858  74\n",
       "True    8106  26"
      ]
     },
     "execution_count": 18,
     "metadata": {},
     "output_type": "execute_result"
    }
   ],
   "source": [
    "train_crime_stats = pd.concat({'#': train_dataset['crime'].value_counts()}, axis=1)\n",
    "train_crime_stats['%'] = ((train_crime_stats['#'] / train_crime_stats['#'].sum()) * 100).round().astype(int)\n",
    "train_crime_stats"
   ]
  },
  {
   "cell_type": "code",
   "execution_count": 19,
   "metadata": {},
   "outputs": [],
   "source": []
  },
  {
   "cell_type": "code",
   "execution_count": 20,
   "metadata": {},
   "outputs": [],
   "source": []
  },
  {
   "cell_type": "code",
   "execution_count": 21,
   "metadata": {},
   "outputs": [],
   "source": []
  },
  {
   "cell_type": "code",
   "execution_count": 22,
   "metadata": {},
   "outputs": [],
   "source": []
  },
  {
   "cell_type": "markdown",
   "metadata": {},
   "source": [
    "### Training"
   ]
  },
  {
   "cell_type": "code",
   "execution_count": 23,
   "metadata": {},
   "outputs": [],
   "source": [
    "from sklearn.linear_model import LogisticRegression"
   ]
  },
  {
   "cell_type": "code",
   "execution_count": 53,
   "metadata": {},
   "outputs": [
    {
     "data": {
      "text/plain": [
       "2.8198865038243275"
      ]
     },
     "execution_count": 53,
     "metadata": {},
     "output_type": "execute_result"
    }
   ],
   "source": []
  },
  {
   "cell_type": "code",
   "execution_count": 54,
   "metadata": {},
   "outputs": [
    {
     "data": {
      "text/plain": [
       "LogisticRegression(C=2.8198865038243275, class_weight=None, dual=False,\n",
       "          fit_intercept=True, intercept_scaling=1, max_iter=100,\n",
       "          multi_class='ovr', n_jobs=1, penalty='l2', random_state=None,\n",
       "          solver='liblinear', tol=0.0001, verbose=0, warm_start=False)"
      ]
     },
     "execution_count": 54,
     "metadata": {},
     "output_type": "execute_result"
    }
   ],
   "source": []
  },
  {
   "cell_type": "markdown",
   "metadata": {},
   "source": [
    "### Evaluation"
   ]
  },
  {
   "cell_type": "code",
   "execution_count": 90,
   "metadata": {},
   "outputs": [
    {
     "name": "stderr",
     "output_type": "stream",
     "text": [
      "/usr/local/lib/python3.6/site-packages/sklearn/linear_model/base.py:340: RuntimeWarning: overflow encountered in exp\n",
      "  np.exp(prob, prob)\n",
      "/usr/local/lib/python3.6/site-packages/sklearn/linear_model/logistic.py:1356: RuntimeWarning: divide by zero encountered in log\n",
      "  return np.log(self.predict_proba(X))\n"
     ]
    }
   ],
   "source": []
  },
  {
   "cell_type": "code",
   "execution_count": 92,
   "metadata": {},
   "outputs": [],
   "source": []
  },
  {
   "cell_type": "code",
   "execution_count": 163,
   "metadata": {},
   "outputs": [
    {
     "data": {
      "text/plain": [
       "True"
      ]
     },
     "execution_count": 163,
     "metadata": {},
     "output_type": "execute_result"
    }
   ],
   "source": [
    "set(threat_by_KDE.index) == set(threat_by_logreg.index)"
   ]
  },
  {
   "cell_type": "code",
   "execution_count": 114,
   "metadata": {},
   "outputs": [],
   "source": [
    "threat_by_KDE = predicted_threat_grid.set_index(['latitude_index', 'longitude_index'])['KDE'].sort_values(ascending=False)\n",
    "threat_by_logreg = predicted_threat_grid.set_index(['latitude_index', 'longitude_index'])['threat'].sort_values(ascending=False)"
   ]
  },
  {
   "cell_type": "code",
   "execution_count": 124,
   "metadata": {},
   "outputs": [
    {
     "name": "stderr",
     "output_type": "stream",
     "text": [
      "/Users/shlomi/projects/Crime-Prediction-with-Tweets/pipeline/utils/geo.py:88: SettingWithCopyWarning: \n",
      "A value is trying to be set on a copy of a slice from a DataFrame.\n",
      "Try using .loc[row_indexer,col_indexer] = value instead\n",
      "\n",
      "See the caveats in the documentation: http://pandas.pydata.org/pandas-docs/stable/indexing.html#indexing-view-versus-copy\n",
      "  .astype(int))\n",
      "/Users/shlomi/projects/Crime-Prediction-with-Tweets/pipeline/utils/geo.py:92: SettingWithCopyWarning: \n",
      "A value is trying to be set on a copy of a slice from a DataFrame.\n",
      "Try using .loc[row_indexer,col_indexer] = value instead\n",
      "\n",
      "See the caveats in the documentation: http://pandas.pydata.org/pandas-docs/stable/indexing.html#indexing-view-versus-copy\n",
      "  .astype(int))\n"
     ]
    }
   ],
   "source": [
    "crimes_indexes = utils.geo.enrich_with_chicago_grid_200(train_dataset[train_dataset['crime']])[['latitude_index', 'longitude_index']]"
   ]
  },
  {
   "cell_type": "code",
   "execution_count": 152,
   "metadata": {},
   "outputs": [],
   "source": [
    "crime_counts = crimes_indexes.groupby(['latitude_index', 'longitude_index']).size()\n",
    "crime_freqs = crime_counts / crime_counts.sum()"
   ]
  },
  {
   "cell_type": "code",
   "execution_count": 174,
   "metadata": {},
   "outputs": [],
   "source": [
    "graph = np.zeros(len(threat_by_KDE))\n",
    "for cell_index, threat_cell_indices in enumerate(threat_by_KDE.index):\n",
    "    cell_crime_freq= crime_freqs.get(threat_cell_indices, 0)\n",
    "    graph[cell_index] = cell_crime_freq"
   ]
  },
  {
   "cell_type": "code",
   "execution_count": 173,
   "metadata": {},
   "outputs": [],
   "source": [
    "graph2 = np.zeros(len(threat_by_KDE))\n",
    "for cell_index, threat_cell_indices in enumerate(threat_by_logreg.index):\n",
    "    cell_crime_freq= crime_freqs.get(threat_cell_indices, 0)\n",
    "    graph2[cell_index] = cell_crime_freq"
   ]
  },
  {
   "cell_type": "code",
   "execution_count": 172,
   "metadata": {},
   "outputs": [],
   "source": [
    "graph3 = np.zeros(len(threat_by_KDE))\n",
    "for cell_index, threat_cell_indices in enumerate(crime_counts.sort_values(ascending=False).index):\n",
    "    cell_crime_freq= crime_freqs.get(threat_cell_indices, 0)\n",
    "    graph3[cell_index] = cell_crime_freq"
   ]
  },
  {
   "cell_type": "code",
   "execution_count": 179,
   "metadata": {},
   "outputs": [
    {
     "data": {
      "image/png": "[encoded data removed]",
      "text/plain": [
       "<matplotlib.figure.Figure at 0x10b8afa90>"
      ]
     },
     "metadata": {},
     "output_type": "display_data"
    }
   ],
   "source": [
    "plt.figure()\n",
    "plt.plot(graph.cumsum())\n",
    "plt.plot(graph2.cumsum())\n",
    "plt.plot(graph3.cumsum())\n",
    "plt.plot(graph3.cumsum()-graph.cumsum())\n",
    "plt.legend()"
   ]
  },
  {
   "cell_type": "code",
   "execution_count": 134,
   "metadata": {},
   "outputs": [
    {
     "name": "stderr",
     "output_type": "stream",
     "text": [
      "/usr/local/lib/python3.6/site-packages/ipykernel/kernelbase.py:283: PerformanceWarning: indexing past lexsort depth may impact performance.\n",
      "  return self.dispatch_shell(stream, msg)\n"
     ]
    },
    {
     "data": {
      "text/plain": [
       "6425"
      ]
     },
     "execution_count": 134,
     "metadata": {},
     "output_type": "execute_result"
    }
   ],
   "source": [
    "threat_by_KDE.index.get_loc(ind).start"
   ]
  },
  {
   "cell_type": "code",
   "execution_count": null,
   "metadata": {},
   "outputs": [],
   "source": [
    "def generate_one_step_train_dataset(crimes_dataset, tweets_dataset):\n",
    "    crimes_kde_model = train_KDE_model(crimes_dataset)\n",
    "    \n",
    "    tweets_docs = generate_tweets_docs(tweets_dataset)\n",
    "    tweets_lda_model, doc_topics, tweets_vocabulary = train_LDA_model(tweet_docs.tolist())\n",
    "    \n",
    "    train_dataset = pd.concat([crimes_data[['latitude', 'longitude']].assign(crime=True),\n",
    "                            generate_chicago_threat_grid_list().assign(crime=False)],\n",
    "                    axis=0)\n",
    "    '''\n",
    "    train_dataset['exists_tweets_data'] = train_dataset.apply(\n",
    "        lambda r: chicago_grid_mask(r['latitude'], r['longitude']),\n",
    "    axis=1)\n",
    "    train_dataset = train_dataset[train_dataset['exists_tweets_data']]\n",
    "\n",
    "    '''\n",
    "\n",
    "    train_dataset = train_dataset[['latitude', 'longitude', 'crime']]\n",
    "    train_dataset = enrich_with_chicago_grid_200(train_dataset)\n",
    "\n",
    "    train_dataset['KDE'] = crimes_kde_model.score_samples(\n",
    "        train_dataset[['latitude', 'longitude']].as_matrix()\n",
    "    )\n",
    "\n",
    "    train_dataset[LDA_TOPICS] = train_dataset.apply(lambda row: pd.Series(latlng2LDA_tweet_topics_chicago(\n",
    "                                                                    row['latitude'],\n",
    "                                                                    row['longitude'])),\n",
    "                                        axis=1)\n",
    "\n",
    "    features_cols = ['KDE'] + LDA_TOPICS\n",
    "\n",
    "    train_dataset['crime'] = {\n",
    "                        'X': train_dataset[['latitude_index', 'longtitude_index'] + features_cols],\n",
    "                        'Y': train_dataset['crime']\n",
    "    }\n",
    "    \n",
    "    return train_dataset\n",
    "\n",
    "\n",
    "\n",
    "def generate_one_step_evaluation_dataset(crimes_evaluation_dataset):\n",
    "    evaluation_dataset = enrich_with_chicago_grid_200(crimes_evaluation_dataset)\n",
    "    evaluation_dataset = evaluation_dataset[['latitude_index', 'longitude_index']]\n",
    "    return evaluation_dataset\n",
    "\n",
    "def generate_one_step_datasets(crimes_data, tweets_data, start_train_date, n_train_days):\n",
    "    start_train_date = pd.to_datetime(start_train_date)\n",
    "    end_train_date = start_train_date + + pd.DateOffset(n_train_days)\n",
    "    evaluation_date = end_train_date + pd.DateOffset(1)\n",
    "    \n",
    "    crimes_train_dataset = crimes_data[(crimes_data['timestamps'] >= start_train_date) &\n",
    "                                       ((crimes_data['timestamps'] <= end_train_date))]\n",
    "    \n",
    "    tweets_train_dataset = tweets_data[(tweets_data['timestamps'] >= start_train_date) &\n",
    "                                       ((tweets_data['timestamps'] <= end_train_date))]\n",
    "    \n",
    "    crimes_evaluation_dataset = crimes_data[crimes_data['timestamps'] == evaluation_date]\n",
    "    \n",
    "    train_dataset = generate_one_step_train_dataset(crimes_train_dataset, tweets_train_dataset)\n",
    "    evaluation_dataset = generate_one_step_evaluation_dataset(crimes_evaluation_dataset):\n",
    "    \n",
    "    return train_dataset, evaluation_dataset\n"
   ]
  },
  {
   "cell_type": "code",
   "execution_count": null,
   "metadata": {},
   "outputs": [],
   "source": [
    "def generate_threat_kde_dataset(train_dataset):\n",
    "    threat_grid_cells = train_dataset['X'][~train_dataset['Y']['crime']]\n",
    "    kde_values = threat_grid_cells[['latitude_index', 'longtitude_index', 'KDE']]\n",
    "    threat_kde_df = kde_values.set_index(['latitude_index', 'longitude_index'])['KDE']\n",
    "    threat_kde_df = threat_kde_dataset.sort_values(ascending=False)\n",
    "    return list(threat_kde_df.index)\n",
    "\n",
    "def generate_threat_logreg_dataset(train_dataset):\n",
    "    is_crime_count = train_dataset['Y'].value_counts()\n",
    "    logreg_C = is_crime_count[False] / is_crime_count[True]\n",
    "    logreg = LogisticRegression(C=logreg_C)\n",
    "    logreg.fit(train_dataset['X'][['KDE'] + LDA_TOPICS], train_dataset['Y'])\n",
    "    \n",
    "    threat_grid_cells = train_dataset['X'][~train_dataset['Y']['crime']]\n",
    "\n",
    "    threat_grid_cells['logreg'] = logreg.log(threat_grid_cells[['KDE'] + LDA_TOPICS],)\n",
    "    logreg_values = threat_grid_cells[['latitude_index', 'longtitude_index', 'logreg']]\n",
    "\n",
    "    threat_logreg_df = logreg_values.set_index(['latitude_index', 'longitude_index'])['logreg']\n",
    "    threat_logreg_df = threat_logreg_dataset.sort_values(ascending=False)\n",
    "    \n",
    "    return list(threat_logreg_df.index) \n",
    "\n",
    "def generate_threat_gold_dataset(evaluation_dataset):\n",
    "\n",
    "    return crime_counts, "
   ]
  },
  {
   "cell_type": "code",
   "execution_count": null,
   "metadata": {},
   "outputs": [],
   "source": [
    "def generate_threat_datasets(train_dataset):\n",
    "    threat_kde_dataset = generate_threat_kde_dataset(train_dataset)\n",
    "    threat_logreg_dataset = generate_threat_logreg_dataset(train_datasetl)\n",
    "    threat_gold_dataset = generate_threat_gold_dataset(evaluation_dataset)\n",
    "    \n",
    "    return threat_kde_dataset, threat_logreg_dataset, threat_gold_dataset"
   ]
  },
  {
   "cell_type": "code",
   "execution_count": null,
   "metadata": {},
   "outputs": [],
   "source": [
    "def generate_one_step_surveillance_data(train_dataset,\n",
    "                                        evaluation_dataset):\n",
    "\n",
    "    surveillance_data = np.zeros(3, 100)\n",
    "\n",
    "    threat_datasets = generate_threat_datasets(train_dataset)\n",
    "\n",
    "    crime_counts = evaluation_dataset.groupby(['latitude_index', 'longtitude_index']).size()\n",
    "    crime_counts = crime_counts.sort_values(ascending=False)\n",
    "\n",
    "    threat_datasets.append(list(crime_counts.index))\n",
    "    \n",
    "    for threat_index, threat_dataset in enumerate(threat_datasets)\n",
    "        for cell_index, (latitude_index, longitude_index) in enumerate(threat_kde_dataset):\n",
    "            surveillance_data[threat_index][cell_index] = crime_counts[(latitude_index, longitude_index)]\n",
    "        \n",
    "    return surveillance_data\n",
    "    \n",
    "    \n",
    "def generate_all_data_surveillance_data(crimes_data, tweets_data, start_train_date, n_train_days):\n",
    "    surveillance_data = np.zeros(3, 100)\n",
    "    for x in :\n",
    "        train_dataset, evaluation_dataset = generate_one_step_datasets(crimes_data,\n",
    "                                                                       tweets_data,\n",
    "                                                                       start_train_date,\n",
    "                                                                       n_train_days)\n",
    "\n",
    "        surveillance_data += generate_one_step_surveillance_data(train_dataset,\n",
    "                                                                 evaluation_dataset)\n",
    "\n",
    "        surveillance_data = surveillance_data.cumsum(axis=0)\n",
    "        surveillance_data /= surveillance_data.sum(axis=0)\n",
    "        \n",
    "    return surveillance_data\n",
    "\n",
    "def plot_surveillance_data(surveillance_data):\n",
    "    pass\n"
   ]
  },
  {
   "cell_type": "code",
   "execution_count": null,
   "metadata": {},
   "outputs": [],
   "source": []
  },
  {
   "cell_type": "code",
   "execution_count": null,
   "metadata": {},
   "outputs": [],
   "source": []
  },
  {
   "cell_type": "code",
   "execution_count": null,
   "metadata": {},
   "outputs": [],
   "source": []
  },
  {
   "cell_type": "code",
   "execution_count": null,
   "metadata": {},
   "outputs": [],
   "source": []
  },
  {
   "cell_type": "code",
   "execution_count": null,
   "metadata": {},
   "outputs": [],
   "source": []
  },
  {
   "cell_type": "code",
   "execution_count": 56,
   "metadata": {},
   "outputs": [
    {
     "data": {
      "text/plain": [
       "predicted  gold \n",
       "False      False    21696\n",
       "True       False     1162\n",
       "           True      8106\n",
       "dtype: int64"
      ]
     },
     "execution_count": 56,
     "metadata": {},
     "output_type": "execute_result"
    }
   ],
   "source": [
    "pd.DataFrame({'predicted': q, 'gold':train_Y}).groupby(('predicted', 'gold')).size()"
   ]
  },
  {
   "cell_type": "code",
   "execution_count": 57,
   "metadata": {},
   "outputs": [
    {
     "data": {
      "text/plain": [
       "\u001b[0;31mType:\u001b[0m        LogisticRegression\n",
       "\u001b[0;31mString form:\u001b[0m\n",
       "LogisticRegression(C=2.8198865038243275, class_weight=None, dual=False,\n",
       "           fit_intercept=T <...> y='l2', random_state=None,\n",
       "           solver='liblinear', tol=0.0001, verbose=0, warm_start=False)\n",
       "\u001b[0;31mFile:\u001b[0m        /usr/local/lib/python3.6/site-packages/sklearn/linear_model/logistic.py\n",
       "\u001b[0;31mDocstring:\u001b[0m  \n",
       "Logistic Regression (aka logit, MaxEnt) classifier.\n",
       "\n",
       "In the multiclass case, the training algorithm uses the one-vs-rest (OvR)\n",
       "scheme if the 'multi_class' option is set to 'ovr', and uses the cross-\n",
       "entropy loss if the 'multi_class' option is set to 'multinomial'.\n",
       "(Currently the 'multinomial' option is supported only by the 'lbfgs',\n",
       "'sag' and 'newton-cg' solvers.)\n",
       "\n",
       "This class implements regularized logistic regression using the\n",
       "'liblinear' library, 'newton-cg', 'sag' and 'lbfgs' solvers. It can handle\n",
       "both dense and sparse input. Use C-ordered arrays or CSR matrices\n",
       "containing 64-bit floats for optimal performance; any other input format\n",
       "will be converted (and copied).\n",
       "\n",
       "The 'newton-cg', 'sag', and 'lbfgs' solvers support only L2 regularization\n",
       "with primal formulation. The 'liblinear' solver supports both L1 and L2\n",
       "regularization, with a dual formulation only for the L2 penalty.\n",
       "\n",
       "Read more in the :ref:`User Guide <logistic_regression>`.\n",
       "\n",
       "Parameters\n",
       "----------\n",
       "penalty : str, 'l1' or 'l2', default: 'l2'\n",
       "    Used to specify the norm used in the penalization. The 'newton-cg',\n",
       "    'sag' and 'lbfgs' solvers support only l2 penalties.\n",
       "\n",
       "    .. versionadded:: 0.19\n",
       "       l1 penalty with SAGA solver (allowing 'multinomial' + L1)\n",
       "\n",
       "dual : bool, default: False\n",
       "    Dual or primal formulation. Dual formulation is only implemented for\n",
       "    l2 penalty with liblinear solver. Prefer dual=False when\n",
       "    n_samples > n_features.\n",
       "\n",
       "tol : float, default: 1e-4\n",
       "    Tolerance for stopping criteria.\n",
       "\n",
       "C : float, default: 1.0\n",
       "    Inverse of regularization strength; must be a positive float.\n",
       "    Like in support vector machines, smaller values specify stronger\n",
       "    regularization.\n",
       "\n",
       "fit_intercept : bool, default: True\n",
       "    Specifies if a constant (a.k.a. bias or intercept) should be\n",
       "    added to the decision function.\n",
       "\n",
       "intercept_scaling : float, default 1.\n",
       "    Useful only when the solver 'liblinear' is used\n",
       "    and self.fit_intercept is set to True. In this case, x becomes\n",
       "    [x, self.intercept_scaling],\n",
       "    i.e. a \"synthetic\" feature with constant value equal to\n",
       "    intercept_scaling is appended to the instance vector.\n",
       "    The intercept becomes ``intercept_scaling * synthetic_feature_weight``.\n",
       "\n",
       "    Note! the synthetic feature weight is subject to l1/l2 regularization\n",
       "    as all other features.\n",
       "    To lessen the effect of regularization on synthetic feature weight\n",
       "    (and therefore on the intercept) intercept_scaling has to be increased.\n",
       "\n",
       "class_weight : dict or 'balanced', default: None\n",
       "    Weights associated with classes in the form ``{class_label: weight}``.\n",
       "    If not given, all classes are supposed to have weight one.\n",
       "\n",
       "    The \"balanced\" mode uses the values of y to automatically adjust\n",
       "    weights inversely proportional to class frequencies in the input data\n",
       "    as ``n_samples / (n_classes * np.bincount(y))``.\n",
       "\n",
       "    Note that these weights will be multiplied with sample_weight (passed\n",
       "    through the fit method) if sample_weight is specified.\n",
       "\n",
       "    .. versionadded:: 0.17\n",
       "       *class_weight='balanced'*\n",
       "\n",
       "random_state : int, RandomState instance or None, optional, default: None\n",
       "    The seed of the pseudo random number generator to use when shuffling\n",
       "    the data.  If int, random_state is the seed used by the random number\n",
       "    generator; If RandomState instance, random_state is the random number\n",
       "    generator; If None, the random number generator is the RandomState\n",
       "    instance used by `np.random`. Used when ``solver`` == 'sag' or\n",
       "    'liblinear'.\n",
       "\n",
       "solver : {'newton-cg', 'lbfgs', 'liblinear', 'sag', 'saga'},\n",
       "    default: 'liblinear'\n",
       "    Algorithm to use in the optimization problem.\n",
       "\n",
       "    - For small datasets, 'liblinear' is a good choice, whereas 'sag' and\n",
       "        'saga' are faster for large ones.\n",
       "    - For multiclass problems, only 'newton-cg', 'sag', 'saga' and 'lbfgs'\n",
       "        handle multinomial loss; 'liblinear' is limited to one-versus-rest\n",
       "        schemes.\n",
       "    - 'newton-cg', 'lbfgs' and 'sag' only handle L2 penalty, whereas\n",
       "        'liblinear' and 'saga' handle L1 penalty.\n",
       "\n",
       "    Note that 'sag' and 'saga' fast convergence is only guaranteed on\n",
       "    features with approximately the same scale. You can\n",
       "    preprocess the data with a scaler from sklearn.preprocessing.\n",
       "\n",
       "    .. versionadded:: 0.17\n",
       "       Stochastic Average Gradient descent solver.\n",
       "    .. versionadded:: 0.19\n",
       "       SAGA solver.\n",
       "\n",
       "max_iter : int, default: 100\n",
       "    Useful only for the newton-cg, sag and lbfgs solvers.\n",
       "    Maximum number of iterations taken for the solvers to converge.\n",
       "\n",
       "multi_class : str, {'ovr', 'multinomial'}, default: 'ovr'\n",
       "    Multiclass option can be either 'ovr' or 'multinomial'. If the option\n",
       "    chosen is 'ovr', then a binary problem is fit for each label. Else\n",
       "    the loss minimised is the multinomial loss fit across\n",
       "    the entire probability distribution. Does not work for liblinear\n",
       "    solver.\n",
       "\n",
       "    .. versionadded:: 0.18\n",
       "       Stochastic Average Gradient descent solver for 'multinomial' case.\n",
       "\n",
       "verbose : int, default: 0\n",
       "    For the liblinear and lbfgs solvers set verbose to any positive\n",
       "    number for verbosity.\n",
       "\n",
       "warm_start : bool, default: False\n",
       "    When set to True, reuse the solution of the previous call to fit as\n",
       "    initialization, otherwise, just erase the previous solution.\n",
       "    Useless for liblinear solver.\n",
       "\n",
       "    .. versionadded:: 0.17\n",
       "       *warm_start* to support *lbfgs*, *newton-cg*, *sag*, *saga* solvers.\n",
       "\n",
       "n_jobs : int, default: 1\n",
       "    Number of CPU cores used when parallelizing over classes if\n",
       "    multi_class='ovr'\". This parameter is ignored when the ``solver``is set\n",
       "    to 'liblinear' regardless of whether 'multi_class' is specified or\n",
       "    not. If given a value of -1, all cores are used.\n",
       "\n",
       "Attributes\n",
       "----------\n",
       "\n",
       "coef_ : array, shape (1, n_features) or (n_classes, n_features)\n",
       "    Coefficient of the features in the decision function.\n",
       "\n",
       "    `coef_` is of shape (1, n_features) when the given problem\n",
       "    is binary.\n",
       "\n",
       "intercept_ : array, shape (1,) or (n_classes,)\n",
       "    Intercept (a.k.a. bias) added to the decision function.\n",
       "\n",
       "    If `fit_intercept` is set to False, the intercept is set to zero.\n",
       "    `intercept_` is of shape(1,) when the problem is binary.\n",
       "\n",
       "n_iter_ : array, shape (n_classes,) or (1, )\n",
       "    Actual number of iterations for all classes. If binary or multinomial,\n",
       "    it returns only 1 element. For liblinear solver, only the maximum\n",
       "    number of iteration across all classes is given.\n",
       "\n",
       "See also\n",
       "--------\n",
       "SGDClassifier : incrementally trained logistic regression (when given\n",
       "    the parameter ``loss=\"log\"``).\n",
       "sklearn.svm.LinearSVC : learns SVM models using the same algorithm.\n",
       "\n",
       "Notes\n",
       "-----\n",
       "The underlying C implementation uses a random number generator to\n",
       "select features when fitting the model. It is thus not uncommon,\n",
       "to have slightly different results for the same input data. If\n",
       "that happens, try with a smaller tol parameter.\n",
       "\n",
       "Predict output may not match that of standalone liblinear in certain\n",
       "cases. See :ref:`differences from liblinear <liblinear_differences>`\n",
       "in the narrative documentation.\n",
       "\n",
       "References\n",
       "----------\n",
       "\n",
       "LIBLINEAR -- A Library for Large Linear Classification\n",
       "    http://www.csie.ntu.edu.tw/~cjlin/liblinear/\n",
       "\n",
       "SAG -- Mark Schmidt, Nicolas Le Roux, and Francis Bach\n",
       "    Minimizing Finite Sums with the Stochastic Average Gradient\n",
       "    https://hal.inria.fr/hal-00860051/document\n",
       "\n",
       "SAGA -- Defazio, A., Bach F. & Lacoste-Julien S. (2014).\n",
       "    SAGA: A Fast Incremental Gradient Method With Support\n",
       "    for Non-Strongly Convex Composite Objectives\n",
       "    https://arxiv.org/abs/1407.0202\n",
       "\n",
       "Hsiang-Fu Yu, Fang-Lan Huang, Chih-Jen Lin (2011). Dual coordinate descent\n",
       "    methods for logistic regression and maximum entropy models.\n",
       "    Machine Learning 85(1-2):41-75.\n",
       "    http://www.csie.ntu.edu.tw/~cjlin/papers/maxent_dual.pdf\n"
      ]
     },
     "metadata": {},
     "output_type": "display_data"
    }
   ],
   "source": [
    "logreg?"
   ]
  },
  {
   "cell_type": "markdown",
   "metadata": {},
   "source": [
    "#### TODO\n",
    "* grid cells\n",
    "* survilence graph"
   ]
  },
  {
   "cell_type": "code",
   "execution_count": null,
   "metadata": {},
   "outputs": [],
   "source": [
    "predicted = train_X[~train_Y]"
   ]
  },
  {
   "cell_type": "code",
   "execution_count": null,
   "metadata": {},
   "outputs": [],
   "source": [
    "predicted['crime'] = logreg.predict(predicted)"
   ]
  },
  {
   "cell_type": "code",
   "execution_count": null,
   "metadata": {},
   "outputs": [],
   "source": [
    "predicted_test_Y"
   ]
  },
  {
   "cell_type": "code",
   "execution_count": null,
   "metadata": {},
   "outputs": [],
   "source": [
    "predicted['crime'].value_counts()"
   ]
  },
  {
   "cell_type": "code",
   "execution_count": null,
   "metadata": {},
   "outputs": [],
   "source": [
    "test_crime_dataset.groupby(('latitude_index', 'longitude_index')).count().sor"
   ]
  },
  {
   "cell_type": "code",
   "execution_count": null,
   "metadata": {},
   "outputs": [],
   "source": [
    "3+3"
   ]
  }
 ],
 "metadata": {
  "kernelspec": {
   "display_name": "Python 3",
   "language": "python",
   "name": "python3"
  },
  "language_info": {
   "codemirror_mode": {
    "name": "ipython",
    "version": 3
   },
   "file_extension": ".py",
   "mimetype": "text/x-python",
   "name": "python",
   "nbconvert_exporter": "python",
   "pygments_lexer": "ipython3",
   "version": "3.6.3"
  }
 },
 "nbformat": 4,
 "nbformat_minor": 2
}
